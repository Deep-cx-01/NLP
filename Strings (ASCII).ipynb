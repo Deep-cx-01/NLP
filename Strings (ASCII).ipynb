{
 "cells": [
  {
   "cell_type": "markdown",
   "id": "9b2fef44-5d70-4122-9b74-b9c29a972468",
   "metadata": {},
   "source": [
    "ASCII table link : https://www.cs.cmu.edu/~pattis/15-1XX/common/handouts/ascii.html"
   ]
  },
  {
   "cell_type": "markdown",
   "id": "180b83a0-2001-4aff-b1bf-88473050c3b2",
   "metadata": {},
   "source": [
    "### Print A-Z\n"
   ]
  },
  {
   "cell_type": "code",
   "execution_count": 7,
   "id": "662bf67e-16a8-4dc0-83d3-29f7e685a70f",
   "metadata": {},
   "outputs": [
    {
     "name": "stdout",
     "output_type": "stream",
     "text": [
      "ABCDEFGHIJKLMNOPQRSTUVWXYZ | ZYXWVUTSRQPONMLKJIHGFEDCBA\n"
     ]
    }
   ],
   "source": [
    "str=''.join([chr(asci) for asci in range(65,91)])\n",
    "rev=''.join([chr(asci) for asci in range(90,64,-1)])\n",
    "print(str,\"|\", rev)"
   ]
  },
  {
   "cell_type": "markdown",
   "id": "eff8f681-c916-45bb-ab46-468a69613b8b",
   "metadata": {},
   "source": [
    "### 3 way Combinatorics"
   ]
  },
  {
   "cell_type": "code",
   "execution_count": 27,
   "id": "252f9677-6e58-448b-a7ef-7229af1e07f5",
   "metadata": {},
   "outputs": [
    {
     "name": "stdout",
     "output_type": "stream",
     "text": [
      "True\n"
     ]
    }
   ],
   "source": [
    "combin=[]\n",
    "for asc_1 in range(65,91):\n",
    "    for asc_2 in range(65,91):\n",
    "        for asc_3 in range(65,91):\n",
    "            combin.append(chr(asc_1) +chr(asc_2) +chr(asc_3))\n",
    "print(len(combin)==26*26*26)           "
   ]
  },
  {
   "cell_type": "markdown",
   "id": "3aba72e2-4040-4d3d-a9ad-3f86f162b6bd",
   "metadata": {},
   "source": [
    "### ASCII to Strings"
   ]
  },
  {
   "cell_type": "code",
   "execution_count": 30,
   "id": "809f0930-bd79-4ede-9c7d-5251dc58d7d3",
   "metadata": {},
   "outputs": [],
   "source": [
    "text='Pack my box with five dozen liquor jugs.'"
   ]
  },
  {
   "cell_type": "code",
   "execution_count": 31,
   "id": "625789e6-eb36-44cd-a3af-1239ccbbea28",
   "metadata": {},
   "outputs": [],
   "source": [
    "ascii_=[ord(chr) for chr in text]"
   ]
  },
  {
   "cell_type": "markdown",
   "id": "936c9a07-e0e0-4330-827d-e2e121530255",
   "metadata": {},
   "source": [
    "### Back to String "
   ]
  },
  {
   "cell_type": "code",
   "execution_count": 45,
   "id": "857bbdc0-dd61-4353-b1d6-f9a7b28f29b5",
   "metadata": {},
   "outputs": [
    {
     "data": {
      "text/plain": [
       "'Pack my box with five dozen liquor jugs.'"
      ]
     },
     "execution_count": 45,
     "metadata": {},
     "output_type": "execute_result"
    }
   ],
   "source": [
    "str= ''.join([chr(asci) for asci in ascii_])\n",
    "str"
   ]
  },
  {
   "cell_type": "markdown",
   "id": "c92fca13-2fe2-4cdb-8404-a62c62e71ab6",
   "metadata": {},
   "source": [
    "<b>NOTE:</b> An advanced version  is we could store the ascii format for the string reversed "
   ]
  },
  {
   "cell_type": "markdown",
   "id": "85156dd9-d734-430b-8eb2-5ac810b8d6e6",
   "metadata": {},
   "source": [
    "### Definig the defined functions \n",
    "i) <b>isalpha():</b> Returns True if all characters in the string are in the alphabet <br>\n",
    "ii) <b>isdigit():</b> Returns True if all characters in the string are string are digits <br>\n",
    "iii) <b>isalnum():</b> Returns True if all characters in the string are alphanumeric<br>"
   ]
  },
  {
   "cell_type": "code",
   "execution_count": 48,
   "id": "1776593a-c255-49c9-89dc-9e7c5932dce1",
   "metadata": {},
   "outputs": [
    {
     "name": "stdout",
     "output_type": "stream",
     "text": [
      "True\n",
      "True\n"
     ]
    }
   ],
   "source": [
    "def isalnum(text):\n",
    "    c = 0\n",
    "    for i in text:\n",
    "        if ((ord(i)>=65 and ord(i)<=90) or (ord(i)>=97 and ord(i)<=122) or (ord(i)>=48 and ord(i)<=57)):\n",
    "            c += 1\n",
    "    if (len(text) == c):\n",
    "        return True\n",
    "    else:\n",
    "        return False\n",
    "    \n",
    "print('Deep001'.isalnum())\n",
    "print(isalnum('DEEP001'))"
   ]
  },
  {
   "cell_type": "markdown",
   "id": "22016ccb-b591-4e53-b04b-4b6b7857da43",
   "metadata": {},
   "source": [
    "##### Defining the Title function \n",
    "writes the text in Title Format"
   ]
  },
  {
   "cell_type": "code",
   "execution_count": 57,
   "id": "60de2343-bbd5-4486-952b-e90a9208adea",
   "metadata": {},
   "outputs": [],
   "source": [
    "def upper(text):\n",
    "    string = ''\n",
    "    for char in text:\n",
    "        if ( ord(char) >= 97 and ord(char) <= 122 ):\n",
    "            string += chr(ord(char) - 32)           \n",
    "        else:\n",
    "            string += char        \n",
    "    return string\n",
    "\n",
    "def lower(text):  \n",
    "    string = ''\n",
    "    for char in text:\n",
    "        if ( ord(char) >= 65 and ord(char) <= 90 ):\n",
    "            string += chr(ord(char) + 32)          \n",
    "        else:\n",
    "            string += char\n",
    "    return string\n",
    "\n",
    "def title(text):\n",
    "\n",
    "    output = []\n",
    "    for word in text.split(' '):\n",
    "        word=lower(word)\n",
    "        output.append(upper(word[0]) + lower(word[1:]))\n",
    "    \n",
    "    return ' '.join(output)"
   ]
  },
  {
   "cell_type": "code",
   "execution_count": 61,
   "id": "c0c79bd6-e975-4b32-9490-f96f41bdfcbd",
   "metadata": {},
   "outputs": [
    {
     "data": {
      "text/plain": [
       "'I Am Studing The Data Science'"
      ]
     },
     "execution_count": 61,
     "metadata": {},
     "output_type": "execute_result"
    }
   ],
   "source": [
    "title('i AM studing the data ScienCe')"
   ]
  },
  {
   "cell_type": "markdown",
   "id": "02d15b39-0149-49e9-b377-b80798e033a9",
   "metadata": {},
   "source": [
    "### using NLP for this \n"
   ]
  },
  {
   "cell_type": "code",
   "execution_count": 73,
   "id": "69fa69c6-3445-4374-a10d-49bd244b9e0b",
   "metadata": {},
   "outputs": [
    {
     "name": "stdout",
     "output_type": "stream",
     "text": [
      "Requirement already satisfied: spacy in c:\\users\\deeps\\anaconda3\\lib\\site-packages (3.8.2)\n",
      "Requirement already satisfied: spacy-legacy<3.1.0,>=3.0.11 in c:\\users\\deeps\\anaconda3\\lib\\site-packages (from spacy) (3.0.12)\n",
      "Requirement already satisfied: spacy-loggers<2.0.0,>=1.0.0 in c:\\users\\deeps\\anaconda3\\lib\\site-packages (from spacy) (1.0.5)\n",
      "Requirement already satisfied: murmurhash<1.1.0,>=0.28.0 in c:\\users\\deeps\\anaconda3\\lib\\site-packages (from spacy) (1.0.11)\n",
      "Requirement already satisfied: cymem<2.1.0,>=2.0.2 in c:\\users\\deeps\\anaconda3\\lib\\site-packages (from spacy) (2.0.10)\n",
      "Requirement already satisfied: preshed<3.1.0,>=3.0.2 in c:\\users\\deeps\\anaconda3\\lib\\site-packages (from spacy) (3.0.9)\n",
      "Requirement already satisfied: thinc<8.4.0,>=8.3.0 in c:\\users\\deeps\\anaconda3\\lib\\site-packages (from spacy) (8.3.2)\n",
      "Requirement already satisfied: wasabi<1.2.0,>=0.9.1 in c:\\users\\deeps\\anaconda3\\lib\\site-packages (from spacy) (1.1.3)\n",
      "Requirement already satisfied: srsly<3.0.0,>=2.4.3 in c:\\users\\deeps\\anaconda3\\lib\\site-packages (from spacy) (2.4.8)\n",
      "Requirement already satisfied: catalogue<2.1.0,>=2.0.6 in c:\\users\\deeps\\anaconda3\\lib\\site-packages (from spacy) (2.0.10)\n",
      "Requirement already satisfied: weasel<0.5.0,>=0.1.0 in c:\\users\\deeps\\anaconda3\\lib\\site-packages (from spacy) (0.4.1)\n",
      "Requirement already satisfied: typer<1.0.0,>=0.3.0 in c:\\users\\deeps\\anaconda3\\lib\\site-packages (from spacy) (0.15.1)\n",
      "Requirement already satisfied: tqdm<5.0.0,>=4.38.0 in c:\\users\\deeps\\anaconda3\\lib\\site-packages (from spacy) (4.65.0)\n",
      "Requirement already satisfied: requests<3.0.0,>=2.13.0 in c:\\users\\deeps\\anaconda3\\lib\\site-packages (from spacy) (2.31.0)\n",
      "Requirement already satisfied: pydantic!=1.8,!=1.8.1,<3.0.0,>=1.7.4 in c:\\users\\deeps\\anaconda3\\lib\\site-packages (from spacy) (1.10.12)\n",
      "Requirement already satisfied: jinja2 in c:\\users\\deeps\\anaconda3\\lib\\site-packages (from spacy) (3.1.3)\n",
      "Requirement already satisfied: setuptools in c:\\users\\deeps\\anaconda3\\lib\\site-packages (from spacy) (68.2.2)\n",
      "Requirement already satisfied: packaging>=20.0 in c:\\users\\deeps\\anaconda3\\lib\\site-packages (from spacy) (23.1)\n",
      "Requirement already satisfied: langcodes<4.0.0,>=3.2.0 in c:\\users\\deeps\\anaconda3\\lib\\site-packages (from spacy) (3.5.0)\n",
      "Requirement already satisfied: numpy>=1.19.0 in c:\\users\\deeps\\anaconda3\\lib\\site-packages (from spacy) (2.0.2)\n",
      "Requirement already satisfied: language-data>=1.2 in c:\\users\\deeps\\anaconda3\\lib\\site-packages (from langcodes<4.0.0,>=3.2.0->spacy) (1.3.0)\n",
      "Requirement already satisfied: typing-extensions>=4.2.0 in c:\\users\\deeps\\anaconda3\\lib\\site-packages (from pydantic!=1.8,!=1.8.1,<3.0.0,>=1.7.4->spacy) (4.9.0)\n",
      "Requirement already satisfied: charset-normalizer<4,>=2 in c:\\users\\deeps\\anaconda3\\lib\\site-packages (from requests<3.0.0,>=2.13.0->spacy) (2.0.4)\n",
      "Requirement already satisfied: idna<4,>=2.5 in c:\\users\\deeps\\anaconda3\\lib\\site-packages (from requests<3.0.0,>=2.13.0->spacy) (3.4)\n",
      "Requirement already satisfied: urllib3<3,>=1.21.1 in c:\\users\\deeps\\anaconda3\\lib\\site-packages (from requests<3.0.0,>=2.13.0->spacy) (2.0.7)\n",
      "Requirement already satisfied: certifi>=2017.4.17 in c:\\users\\deeps\\anaconda3\\lib\\site-packages (from requests<3.0.0,>=2.13.0->spacy) (2024.2.2)\n",
      "Requirement already satisfied: blis<1.1.0,>=1.0.0 in c:\\users\\deeps\\anaconda3\\lib\\site-packages (from thinc<8.4.0,>=8.3.0->spacy) (1.0.1)\n",
      "Requirement already satisfied: confection<1.0.0,>=0.0.1 in c:\\users\\deeps\\anaconda3\\lib\\site-packages (from thinc<8.4.0,>=8.3.0->spacy) (0.1.5)\n",
      "Requirement already satisfied: colorama in c:\\users\\deeps\\anaconda3\\lib\\site-packages (from tqdm<5.0.0,>=4.38.0->spacy) (0.4.6)\n",
      "Requirement already satisfied: click>=8.0.0 in c:\\users\\deeps\\anaconda3\\lib\\site-packages (from typer<1.0.0,>=0.3.0->spacy) (8.1.7)\n",
      "Requirement already satisfied: shellingham>=1.3.0 in c:\\users\\deeps\\anaconda3\\lib\\site-packages (from typer<1.0.0,>=0.3.0->spacy) (1.5.4)\n",
      "Requirement already satisfied: rich>=10.11.0 in c:\\users\\deeps\\anaconda3\\lib\\site-packages (from typer<1.0.0,>=0.3.0->spacy) (13.3.5)\n",
      "Requirement already satisfied: cloudpathlib<1.0.0,>=0.7.0 in c:\\users\\deeps\\anaconda3\\lib\\site-packages (from weasel<0.5.0,>=0.1.0->spacy) (0.20.0)\n",
      "Requirement already satisfied: smart-open<8.0.0,>=5.2.1 in c:\\users\\deeps\\anaconda3\\lib\\site-packages (from weasel<0.5.0,>=0.1.0->spacy) (5.2.1)\n",
      "Requirement already satisfied: MarkupSafe>=2.0 in c:\\users\\deeps\\anaconda3\\lib\\site-packages (from jinja2->spacy) (2.1.3)\n",
      "Requirement already satisfied: marisa-trie>=1.1.0 in c:\\users\\deeps\\anaconda3\\lib\\site-packages (from language-data>=1.2->langcodes<4.0.0,>=3.2.0->spacy) (1.2.1)\n",
      "Requirement already satisfied: markdown-it-py<3.0.0,>=2.2.0 in c:\\users\\deeps\\anaconda3\\lib\\site-packages (from rich>=10.11.0->typer<1.0.0,>=0.3.0->spacy) (2.2.0)\n",
      "Requirement already satisfied: pygments<3.0.0,>=2.13.0 in c:\\users\\deeps\\anaconda3\\lib\\site-packages (from rich>=10.11.0->typer<1.0.0,>=0.3.0->spacy) (2.15.1)\n",
      "Requirement already satisfied: mdurl~=0.1 in c:\\users\\deeps\\anaconda3\\lib\\site-packages (from markdown-it-py<3.0.0,>=2.2.0->rich>=10.11.0->typer<1.0.0,>=0.3.0->spacy) (0.1.0)\n"
     ]
    }
   ],
   "source": [
    "# !pip install nlp\n",
    "!pip install spacy\n",
    "import nlp"
   ]
  },
  {
   "cell_type": "code",
   "execution_count": 79,
   "id": "c391400c-a158-459b-9abb-524f27bb5fe9",
   "metadata": {},
   "outputs": [
    {
     "name": "stdout",
     "output_type": "stream",
     "text": [
      "Hello how are you?\n",
      "-------------------------\n"
     ]
    },
    {
     "data": {
      "text/plain": [
       "'Hello How Are You?'"
      ]
     },
     "execution_count": 79,
     "metadata": {},
     "output_type": "execute_result"
    }
   ],
   "source": [
    "print(('hello how are you?').capitalize())\n",
    "print('-'*25)\n",
    "('hello how are you?').title()"
   ]
  },
  {
   "cell_type": "code",
   "execution_count": 76,
   "id": "807f082e-d0c1-4fb2-853a-22417f594be6",
   "metadata": {},
   "outputs": [
    {
     "name": "stdout",
     "output_type": "stream",
     "text": [
      "['D', 'e', 'e', 's', 'h', 'a']\n",
      "[68, 101, 101, 115, 104, 97]\n"
     ]
    }
   ],
   "source": [
    "print([char for char in 'Deesha'])\n",
    "print([ord(char) for char in 'Deesha'])"
   ]
  },
  {
   "cell_type": "code",
   "execution_count": null,
   "id": "d5e8a77d-10ac-41d2-bd4c-a6dc0913e902",
   "metadata": {},
   "outputs": [],
   "source": []
  }
 ],
 "metadata": {
  "kernelspec": {
   "display_name": "Python 3 (ipykernel)",
   "language": "python",
   "name": "python3"
  },
  "language_info": {
   "codemirror_mode": {
    "name": "ipython",
    "version": 3
   },
   "file_extension": ".py",
   "mimetype": "text/x-python",
   "name": "python",
   "nbconvert_exporter": "python",
   "pygments_lexer": "ipython3",
   "version": "3.11.7"
  }
 },
 "nbformat": 4,
 "nbformat_minor": 5
}
