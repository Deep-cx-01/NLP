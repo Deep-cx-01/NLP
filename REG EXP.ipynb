{
 "cells": [
  {
   "cell_type": "markdown",
   "id": "644e6c58-526c-4eea-bc05-aed95b067121",
   "metadata": {},
   "source": [
    "## Regular Expressions "
   ]
  },
  {
   "cell_type": "markdown",
   "id": "f0e03f03-2fea-4a09-9c2f-33c782407bc4",
   "metadata": {},
   "source": [
    "A **Regular Expression (regex)** is a sequence of characters that defines a search pattern. Regular expressions are primarily used for string searching, manipulation, and validation. They provide a powerful tool for text processing and pattern matching tasks.\n",
    "\n",
    "#### Uses of Regular Expressions\n",
    "\n",
    "Regular expressions are widely used in various fields for the following tasks:\n",
    "\n",
    "1. **Data Pre-processing**:\n",
    "   - Regex helps in cleaning and transforming raw data by identifying specific patterns in text and modifying or removing them.\n",
    "\n",
    "2. **Rule-based Information Mining Systems**:\n",
    "   - In rule-based systems, regular expressions help in extracting relevant information based on predefined patterns.\n",
    "\n",
    "3. **Pattern Matching**:\n",
    "   - Regex allows for searching text to find occurrences of a particular pattern, such as finding words, numbers, or email addresses in large text corpora.\n",
    "\n",
    "4. **Text Feature Engineering**:\n",
    "   - In machine learning and natural language processing (NLP), regex is used to extract relevant features from text data, such as keywords, tokens, or named entities.\n",
    "\n",
    "5. **Web Scraping**:\n",
    "   - When scraping data from web pages, regex is often used to extract specific pieces of information from HTML content, such as links, tables, or specific text sections.\n",
    "\n",
    "6. **Data Validation**:\n",
    "   - Regex is widely used in input validation to ensure data conforms to specific formats. For example, validating email addresses, phone numbers, or credit card numbers.\n",
    "\n",
    "7. **Data Extraction**:\n",
    "   - Regex allows for extracting important pieces of information from large datasets by matching specific patterns in the data.\n",
    "   traction."
   ]
  },
  {
   "cell_type": "markdown",
   "id": "7f7787a2-9f5a-4ec5-addf-fcd88ec1f778",
   "metadata": {},
   "source": [
    "### Importing module "
   ]
  },
  {
   "cell_type": "code",
   "execution_count": 1,
   "id": "c683bebd-6ac7-4f47-9881-9a61a08b4250",
   "metadata": {},
   "outputs": [],
   "source": [
    "import re"
   ]
  },
  {
   "cell_type": "markdown",
   "id": "02fe27cb-ff67-4317-b685-a23ff2dce0e7",
   "metadata": {},
   "source": [
    "#### 1. Search \n",
    "The re.search() function in Python's re module is used to search for a pattern within a string. It finds the first occurrence of the specified pattern and returns a match object if the pattern is found; otherwise, it returns None"
   ]
  },
  {
   "cell_type": "code",
   "execution_count": 2,
   "id": "e835f78e-7748-44e2-8c38-98486fd6f5fb",
   "metadata": {},
   "outputs": [
    {
     "name": "stdout",
     "output_type": "stream",
     "text": [
      "The word covers range of : (5, 10) indices.\n",
      "The word start at index: 5\n",
      "The word start at index: 10\n"
     ]
    }
   ],
   "source": [
    "search= re.search('learn' , 'i am learning data science')\n",
    "print(\"The word covers range of :\",search.span(),\"indices.\")\n",
    "print(\"The word start at index:\" ,search.start())\n",
    "print(\"The word start at index:\",search.end())"
   ]
  },
  {
   "cell_type": "markdown",
   "id": "d9a02a95-97af-4432-92f0-ac641ce388ff",
   "metadata": {},
   "source": [
    "#### 2. Findall"
   ]
  },
  {
   "cell_type": "code",
   "execution_count": 3,
   "id": "75e391d4-d862-4859-aa59-f00fffc36baa",
   "metadata": {},
   "outputs": [
    {
     "name": "stdout",
     "output_type": "stream",
     "text": [
      "The number of Matches are : 4\n",
      "['deep', 'deep', 'deep', 'deep']\n",
      "Found the word 'deep' 4 times in the given string.\n",
      "['1', '2', '3']\n"
     ]
    }
   ],
   "source": [
    "a='deep understanding and thinking deeply releases deep thoughts which deepen the knowledge'\n",
    "b='deep'\n",
    "\n",
    "print(\"The number of Matches are :\",len(re.findall(b,a)))\n",
    "print(re.findall(b,a))\n",
    "\n",
    "m = len(re.findall(b, a))\n",
    "print(f\"Found the word '{b}' {m} times in the given string.\")\n",
    "\n",
    "print(re.findall(r\"\\b\\d+\\b\", \"a 1 b 2 c 3\"))\n",
    "\n"
   ]
  },
  {
   "cell_type": "markdown",
   "id": "7e43e7a0-bdb3-4a2d-81bf-712e1f6a89ed",
   "metadata": {},
   "source": [
    "#### 3. Finditer"
   ]
  },
  {
   "cell_type": "code",
   "execution_count": 4,
   "id": "3fd2e111-c5ab-4948-9cfb-9cae89bd5de2",
   "metadata": {},
   "outputs": [
    {
     "name": "stdout",
     "output_type": "stream",
     "text": [
      "Found the word 'deep' at 4 positions in the given string.\n",
      "The word 'deep' is found at indices: [0, 32, 48, 68]\n"
     ]
    }
   ],
   "source": [
    "a = 'deep understanding and thinking deeply releases deep thoughts which deepen the knowledge'\n",
    "b = 'deep'\n",
    "\n",
    "# Use re.finditer() to get match objects\n",
    "matches = list(re.finditer(b, a))\n",
    "\n",
    "# Print the count of matches\n",
    "print(f\"Found the word '{b}' at {len(matches)} positions in the given string.\")\n",
    "\n",
    "# Print the start indices of each match\n",
    "indices = [match.start() for match in matches]\n",
    "print(f\"The word '{b}' is found at indices: {indices}\")\n"
   ]
  },
  {
   "cell_type": "markdown",
   "id": "a9c3f6b2-cf29-4246-8435-09ff1b8075fd",
   "metadata": {},
   "source": [
    "### Creating the Regex"
   ]
  },
  {
   "cell_type": "code",
   "execution_count": 5,
   "id": "88ac27ae-f798-4a76-813d-7218591db828",
   "metadata": {},
   "outputs": [
    {
     "data": {
      "text/plain": [
       "<re.Match object; span=(23, 35), match='834-4324-345'>"
      ]
     },
     "execution_count": 5,
     "metadata": {},
     "output_type": "execute_result"
    }
   ],
   "source": [
    "txt = 'My telephone number is 834-4324-345'\n",
    "pattern = '\\d\\d\\d-\\d\\d\\d\\d-\\d\\d\\d'\n",
    "\n",
    "re.search(pattern, txt)"
   ]
  },
  {
   "cell_type": "code",
   "execution_count": 6,
   "id": "dcc450fa-ec78-407d-9cd7-e018c4bd2e68",
   "metadata": {},
   "outputs": [
    {
     "data": {
      "text/plain": [
       "'834-4324-345'"
      ]
     },
     "execution_count": 6,
     "metadata": {},
     "output_type": "execute_result"
    }
   ],
   "source": [
    "# modifying way of writing \n",
    "pattern_1 = '\\d{3}-\\d{4}-\\d{3}'\n",
    "pattern_2 = r'(\\d+)-(\\d+)-(\\d+)'\n",
    "re.search(pattern_2,txt).group()"
   ]
  },
  {
   "cell_type": "markdown",
   "id": "816319d0-a4f4-4cfb-99fc-307e4e36f7d1",
   "metadata": {},
   "source": [
    "#### Using groups in various ways "
   ]
  },
  {
   "cell_type": "code",
   "execution_count": 7,
   "id": "556f8933-f326-4e7c-9e5b-61c5d47a533c",
   "metadata": {},
   "outputs": [
    {
     "name": "stdout",
     "output_type": "stream",
     "text": [
      "05-deesha-15\n",
      "05\n",
      "deesha\n",
      "('05', '15')\n"
     ]
    }
   ],
   "source": [
    "pattern = r'(\\d+)-(\\w+)-(\\d+)'\n",
    "string = \"Order ID: 05-deesha-15\"\n",
    "\n",
    "match = re.search(pattern, string)\n",
    "if match:\n",
    "    print(match.group(0))  #  (entire match)\n",
    "    print(match.group(1))  #  (first capturing group)\n",
    "    print(match.group(2))  #  (second capturing group)\n",
    "    print(match.group(1,3))\n",
    "    \n"
   ]
  },
  {
   "cell_type": "code",
   "execution_count": 8,
   "id": "91b7f9c0-4426-4793-bd18-9c58d6c66a0f",
   "metadata": {},
   "outputs": [
    {
     "name": "stdout",
     "output_type": "stream",
     "text": [
      "No match found.\n"
     ]
    }
   ],
   "source": [
    "match = re.search(r'\\d+', \"No digits here\")\n",
    "if match:\n",
    "    print(match.group())  # Safe to call only if match is not None\n",
    "else:\n",
    "    print(\"No match found.\")\n"
   ]
  },
  {
   "cell_type": "markdown",
   "id": "e80d64fc-445a-4f85-99f0-3e42f4921473",
   "metadata": {},
   "source": [
    "### Specific pattern finding \n"
   ]
  },
  {
   "cell_type": "markdown",
   "id": "941b87b3-6e6b-4465-8592-48753c8ac72a",
   "metadata": {},
   "source": [
    "1. With specific patterns "
   ]
  },
  {
   "cell_type": "code",
   "execution_count": 9,
   "id": "1c98c77a-6161-46b7-87a1-0b4587a6ee44",
   "metadata": {},
   "outputs": [
    {
     "name": "stdout",
     "output_type": "stream",
     "text": [
      "['at', 'at', 'at', 'at', 'at']\n",
      "['rat', 'sat', 'mat', ' at', 'cat']\n",
      "['rat', 'sat', 'mat', ' an', ' at', 'tac', ' a ', 'cat']\n"
     ]
    }
   ],
   "source": [
    "srch=re.findall('at', 'The rat sat on the mat and attached by a cat')\n",
    "print(srch)\n",
    "srch_1=re.findall('.at', 'The rat sat on the mat and attached by a cat')\n",
    "print(srch_1)\n",
    "srch_2=re.findall('.a.', 'The rat sat on the mat and attached by a cat')\n",
    "print(srch_2)"
   ]
  },
  {
   "cell_type": "code",
   "execution_count": 10,
   "id": "1a28b89e-cafa-4882-b7b7-f8be50d8666b",
   "metadata": {},
   "outputs": [
    {
     "name": "stdout",
     "output_type": "stream",
     "text": [
      "['4', '2', '3']\n",
      "['4']\n",
      "['1']\n"
     ]
    }
   ],
   "source": [
    "all=re.findall('\\d', '4 is divisible by 2 not by 3')\n",
    "print(all)\n",
    "start= re.findall('^\\d', '4 is divisible by 2 not by 3')\n",
    "print(start)\n",
    "end=re.findall('\\d$', '4 is divisible by 2 not by 31')\n",
    "print(end)"
   ]
  },
  {
   "cell_type": "code",
   "execution_count": 11,
   "id": "4811b101-42dc-4983-ba43-e01ecf5c6528",
   "metadata": {},
   "outputs": [
    {
     "name": "stdout",
     "output_type": "stream",
     "text": [
      "[' 2 ']\n",
      "['y2']\n",
      "['4', '2', '3']\n",
      "['4', '2']\n"
     ]
    }
   ],
   "source": [
    "with_spaces=re.findall('\\s\\d\\s', '4 is divisible by 2 not by 3')\n",
    "print(with_spaces)\n",
    "after_letter=re.findall('[a-z,A-Z]\\d','4 is divisible by2 not by 3')\n",
    "print(after_letter)\n",
    "any_bef=re.findall('(?<=.)\\d', 'x4 is divisible by 2 and y3')\n",
    "print(any_bef)\n",
    "any_aft=re.findall('\\d(?=.)','4x is divisble by 2z and 3')\n",
    "print(any_aft)\n",
    "\n",
    "#The regex \\d(?=.) ensures that:\n",
    "# Only digits followed by a character are matched.\n",
    "# The following character is not included in the match."
   ]
  },
  {
   "cell_type": "code",
   "execution_count": 12,
   "id": "06958bb0-d01b-4dfd-9e6b-447f5e820f92",
   "metadata": {},
   "outputs": [
    {
     "name": "stdout",
     "output_type": "stream",
     "text": [
      "51\n"
     ]
    },
    {
     "data": {
      "text/plain": [
       "29"
      ]
     },
     "execution_count": 12,
     "metadata": {},
     "output_type": "execute_result"
    }
   ],
   "source": [
    "#All alphanumeric \n",
    "txt='Welcome to GFG data science Program for 499 dyas for only 3999 ~!@#$%^&*()_+=-/><?.,|\\}{[]:;'\n",
    "srch=re.findall('[A-Za-z0-9]', txt)\n",
    "# all except alphanumeric and spaces usng ^ (neagtion)\n",
    "srch2=re.findall('[^A-Za-z0-9\\s]',txt)\n",
    "print(len(srch))\n",
    "len(srch2)"
   ]
  },
  {
   "cell_type": "markdown",
   "id": "1b25a103-da06-4585-9eb1-738e4ef7c38d",
   "metadata": {},
   "source": [
    "### SUB and SUBN fucntions \n",
    "The sub and subn functions find patterns in the target string and substitute them with another string. The sub function substitutes only the first pattern occurrence, while subn substitutes the first n occurrences."
   ]
  },
  {
   "cell_type": "code",
   "execution_count": 13,
   "id": "5d97d0ef-17f5-4017-b11c-ec6706a72c5e",
   "metadata": {},
   "outputs": [
    {
     "name": "stdout",
     "output_type": "stream",
     "text": [
      "This year is 2022\n"
     ]
    }
   ],
   "source": [
    "print(re.sub(r\"\\b\\d+\\b\", \"2022\", \"This year is 2021\"))"
   ]
  },
  {
   "cell_type": "code",
   "execution_count": 14,
   "id": "95252189-5ccc-4c7d-b8d6-e4f4597ca6af",
   "metadata": {},
   "outputs": [
    {
     "name": "stdout",
     "output_type": "stream",
     "text": [
      "('a NUMBER b NUMBER c 3 d 4', 2)\n"
     ]
    }
   ],
   "source": [
    "print(re.subn(r\"\\b\\d+\\b\", \"NUMBER\", \"a 1 b 2 c 3 d 4\", count=2))"
   ]
  },
  {
   "cell_type": "code",
   "execution_count": 15,
   "id": "de22a2b0-852b-473e-b8d6-2d956b4b323e",
   "metadata": {},
   "outputs": [
    {
     "name": "stdout",
     "output_type": "stream",
     "text": [
      "a NUMBER b 2 c 3 d NUMBER \n"
     ]
    }
   ],
   "source": [
    "text = \"a 1 b 2 c 3 d 4 \"\n",
    "text = re.sub(r\"\\b\\d+\\b\", \"NUMBER\", text, count=1)\n",
    "# Replace the last occurrence of a number\n",
    "text = re.sub(r\"\\b\\d+\\b(?=[^\\d]*$)\", \"NUMBER\", text)\n",
    "print(text)"
   ]
  },
  {
   "cell_type": "markdown",
   "id": "d8fc0090-2a68-4f59-bb83-645f91a47a8b",
   "metadata": {},
   "source": [
    "#### EXclusion "
   ]
  },
  {
   "cell_type": "code",
   "execution_count": 16,
   "id": "b9dc22d3-55cd-4764-84d9-61ee80d94a58",
   "metadata": {},
   "outputs": [
    {
     "name": "stdout",
     "output_type": "stream",
     "text": [
      "I'm deep and roll no is \n",
      "22124\n",
      "I'm deep and roll no is \n",
      "22124\n"
     ]
    }
   ],
   "source": [
    "txt = \"I'm deep and roll no is 22124\"\n",
    "\n",
    "print(''.join(re.findall('[^\\d]',txt)))\n",
    "print(''.join(re.findall('[\\d]',txt)))\n",
    "print(''.join(re.findall('[\\D]',txt)))\n",
    "print(''.join(re.findall('[^\\D]',txt)))"
   ]
  },
  {
   "cell_type": "markdown",
   "id": "4120e6f5-aab3-437b-9166-27228dc7e4b7",
   "metadata": {},
   "source": [
    "#### Phone numbers in diff pattern"
   ]
  },
  {
   "cell_type": "code",
   "execution_count": 17,
   "id": "416ec300-26b9-42c2-b449-4e8ed60e6ef2",
   "metadata": {},
   "outputs": [
    {
     "name": "stdout",
     "output_type": "stream",
     "text": [
      "6622534342\n",
      "5435345645\n",
      "4563453445\n",
      "5354535345\n",
      "4352346324\n"
     ]
    }
   ],
   "source": [
    "for no in [\"6-622534-342\", \"543-5345-645\",\"4563-453-445\",\"53-5453-5345\",\"435-234-6324\"]:\n",
    "    \n",
    "    print(str(re.findall('[\\d]+-[\\d]+-[\\d]+' , no)[0]).replace('-',''))"
   ]
  },
  {
   "cell_type": "markdown",
   "id": "1a1cde82-4519-4b83-9259-1ea9a504e5cc",
   "metadata": {},
   "source": [
    "#### Email Pattern Matching "
   ]
  },
  {
   "cell_type": "code",
   "execution_count": 32,
   "id": "074e064f-a1d5-4ec9-93ff-1fe88e2dc8de",
   "metadata": {},
   "outputs": [
    {
     "name": "stdout",
     "output_type": "stream",
     "text": [
      "(0, 35)\n",
      "(0, 26)\n"
     ]
    }
   ],
   "source": [
    "mail='deepsethi00090@gmail.com.commmmmmmm'\n",
    "pattern='[A-Za-z0-9]+@[\\w]+.[\\w]+.[\\w]+'\n",
    "pattern_2='[A-Za-z0-9]+@[\\w]+.[\\w]+.[\\w]'\n",
    "srch=re.search(pattern,mail)\n",
    "print(srch.span())\n",
    "srch_2=re.search(pattern_2,mail)\n",
    "print(srch_2.span()) "
   ]
  },
  {
   "cell_type": "code",
   "execution_count": 28,
   "id": "36fb3e9e-43f3-4678-8be4-85c3a5864ad5",
   "metadata": {},
   "outputs": [
    {
     "name": "stdout",
     "output_type": "stream",
     "text": [
      "35\n"
     ]
    }
   ],
   "source": [
    "mail='deepsethi00090@gmail.com.commmmmmmm'\n",
    "print(len(mail))"
   ]
  },
  {
   "cell_type": "markdown",
   "id": "1207d4b1-9fcc-4dc8-a20f-a5b8c09e0ae3",
   "metadata": {},
   "source": [
    "#### matching any pattern of the form of mail."
   ]
  },
  {
   "cell_type": "code",
   "execution_count": 57,
   "id": "bc794a7f-6579-42f6-9ea5-d3b3af6a6048",
   "metadata": {},
   "outputs": [],
   "source": [
    "def is_valid_mail(s):\n",
    "    pattern = r'[a-zA-Z0-9]+@[\\w]+.(org|in|com|edu|gov|net)'\n",
    "    # the universities mail or mail followed by two . .\n",
    "    pattern_2=r'[a-zA-Z0-9]+@[\\w]+.[\\w]+.in'\n",
    "    srch=re.search(pattern,s)\n",
    "    srch_2=re.search(pattern_2,s)\n",
    "\n",
    "    poss=bool(srch or srch_2)\n",
    "    if(poss):\n",
    "        print('The input is of the nature of the mail.')\n",
    "    else:\n",
    "        print('The input doesn\\'t belongs to any type of the mail format.') \n",
    "    "
   ]
  },
  {
   "cell_type": "code",
   "execution_count": 58,
   "id": "fb56bf7b-b230-4ade-91e2-91d3b8d82c77",
   "metadata": {},
   "outputs": [
    {
     "name": "stdout",
     "output_type": "stream",
     "text": [
      "The input doesn't belongs to any type of the mail format.\n"
     ]
    }
   ],
   "source": [
    "is_valid_mail('lovepreetgmail.com')"
   ]
  },
  {
   "cell_type": "code",
   "execution_count": 60,
   "id": "7fce9599-bd5f-4908-b0e7-9b4cac4abb4a",
   "metadata": {},
   "outputs": [
    {
     "name": "stdout",
     "output_type": "stream",
     "text": [
      "The input is of the nature of the mail.\n"
     ]
    }
   ],
   "source": [
    "is_valid_mail('22301@iiitu.ac.intlll')"
   ]
  },
  {
   "cell_type": "markdown",
   "id": "933e21d0-23b0-47d7-b82d-f448388aa92a",
   "metadata": {},
   "source": [
    "#### EMAIL EXTRACTING"
   ]
  },
  {
   "cell_type": "code",
   "execution_count": 97,
   "id": "14c7df92-1343-41eb-ace0-a26d6cd0e10e",
   "metadata": {},
   "outputs": [],
   "source": [
    "def process_emails(mails):\n",
    "    user_id = []\n",
    "    host_name = []\n",
    "    domain_type = []\n",
    "    \n",
    "    for mail in mails:\n",
    "        u_id = mail.split('@')[0]\n",
    "        host = mail.split('@')[1].split('.')[0]\n",
    "        domain = '.'.join(mail.split('@')[1].split('.')[1:])\n",
    "        \n",
    "        user_id.append(u_id)\n",
    "        host_name.append(host)\n",
    "        domain_type.append(domain)\n",
    "        \n",
    "        print(f\" The User ID is : {u_id}, with the Host Name: {host}, and the Domain Type is: {domain}\")\n",
    "    \n",
    "    return user_id, host_name, domain_type\n"
   ]
  },
  {
   "cell_type": "code",
   "execution_count": 98,
   "id": "46bea508-1447-454a-a34e-5740dcc2b58c",
   "metadata": {},
   "outputs": [
    {
     "name": "stdout",
     "output_type": "stream",
     "text": [
      " The User ID is : user1, with the Host Name: gmail, and the Domain Type is: com\n",
      " The User ID is : user2, with the Host Name: yahoo, and the Domain Type is: co.uk\n",
      " The User ID is : john_doe, with the Host Name: outlook, and the Domain Type is: com\n",
      " The User ID is : alice123, with the Host Name: domain, and the Domain Type is: org\n",
      " The User ID is : bob_smith, with the Host Name: company, and the Domain Type is: biz\n",
      " The User ID is : charlie.m, with the Host Name: university, and the Domain Type is: edu\n",
      " The User ID is : david_wilson, with the Host Name: company, and the Domain Type is: co\n",
      " The User ID is : emma.jones, with the Host Name: website, and the Domain Type is: net\n",
      " The User ID is : frank_lee, with the Host Name: service, and the Domain Type is: org\n",
      " The User ID is : george.king, with the Host Name: brand, and the Domain Type is: info\n",
      " The User ID is : hannah.white, with the Host Name: provider, and the Domain Type is: tv\n",
      " The User ID is : ian_gray, with the Host Name: shop, and the Domain Type is: store\n",
      " The User ID is : jack_rose, with the Host Name: domain, and the Domain Type is: co.uk\n",
      " The User ID is : karen.m, with the Host Name: company, and the Domain Type is: com\n",
      " The User ID is : luke_brown, with the Host Name: platform, and the Domain Type is: xyz\n",
      " The User ID is : mary.j, with the Host Name: site, and the Domain Type is: org\n",
      " The User ID is : nick_smith, with the Host Name: tech, and the Domain Type is: com\n",
      " The User ID is : olivia.wilson, with the Host Name: store, and the Domain Type is: shop\n",
      " The User ID is : paul_johnson, with the Host Name: socialmedia, and the Domain Type is: org\n",
      " The User ID is : queen_b, with the Host Name: web, and the Domain Type is: net\n"
     ]
    }
   ],
   "source": [
    "emails = [\n",
    "    'user1@gmail.com', 'user2@yahoo.co.uk', 'john_doe@outlook.com', 'alice123@domain.org',\n",
    "    'bob_smith@company.biz', 'charlie.m@university.edu', 'david_wilson@company.co', 'emma.jones@website.net',\n",
    "    'frank_lee@service.org', 'george.king@brand.info', 'hannah.white@provider.tv', 'ian_gray@shop.store',\n",
    "    'jack_rose@domain.co.uk', 'karen.m@company.com', 'luke_brown@platform.xyz', 'mary.j@site.org',\n",
    "    'nick_smith@tech.com', 'olivia.wilson@store.shop', 'paul_johnson@socialmedia.org', 'queen_b@web.net'\n",
    "]\n",
    "\n",
    "user_ids, host_names, domain_types = process_emails(emails)"
   ]
  },
  {
   "cell_type": "markdown",
   "id": "16ace1fc-a121-4678-9ec9-c5c3549ec42d",
   "metadata": {},
   "source": [
    "#### Number in the continuing text with using function "
   ]
  },
  {
   "cell_type": "code",
   "execution_count": 81,
   "id": "b553609b-bd9c-4157-85a6-dea2dc871d9a",
   "metadata": {},
   "outputs": [],
   "source": [
    "def numbers(s):\n",
    "    c=0\n",
    "    list=[]\n",
    "    for i in range(len(s)):\n",
    "        if(s[i].isdigit()):\n",
    "            if(c==0):\n",
    "                start=i\n",
    "            c+=1\n",
    "        else:\n",
    "            if(c!=0):\n",
    "                end=i\n",
    "                list.append(s[start:end])\n",
    "            c=0\n",
    "            \n",
    "    if(c!=0):\n",
    "       list.append(s[-c:])\n",
    "\n",
    "    for i in list:\n",
    "        print(i)\n",
    "\n",
    "    print('The numbers in the text are :',\" \".join(list))"
   ]
  },
  {
   "cell_type": "code",
   "execution_count": 82,
   "id": "3edf9f27-76e4-46a5-a35c-a14b0dabc00f",
   "metadata": {},
   "outputs": [
    {
     "name": "stdout",
     "output_type": "stream",
     "text": [
      "5\n",
      "3\n",
      "1\n",
      "10\n",
      "2\n",
      "4\n",
      "6\n",
      "The numbers in the text are : 5 3 1 10 2 4 6\n"
     ]
    }
   ],
   "source": [
    "numbers('5 cats and 3 dogs played in 1 park, while 10 birds flew above 2 trees and 4 kids laughed for 6 hours.')"
   ]
  },
  {
   "cell_type": "markdown",
   "id": "f98e7f23-3a38-4542-ab54-5b46f89d3b5d",
   "metadata": {},
   "source": [
    "#### Word search "
   ]
  },
  {
   "cell_type": "code",
   "execution_count": 87,
   "id": "de50eff4-9459-49fa-8f85-7c704ec0375f",
   "metadata": {},
   "outputs": [
    {
     "name": "stdout",
     "output_type": "stream",
     "text": [
      "13 16\n",
      "49 52\n",
      "65 68\n"
     ]
    }
   ],
   "source": [
    "txt = 'AI is having the capability to revolutionize all the industries. The Industry is ready for a big change'.lower()\n",
    "patt = 'the'.lower()\n",
    "\n",
    "for i in range(len(txt)):\n",
    "    if(txt[i:i+len(patt)]==patt):\n",
    "        print(i,i+len(patt))"
   ]
  },
  {
   "cell_type": "markdown",
   "id": "9390f988-776f-4894-ad3a-316f633abe58",
   "metadata": {},
   "source": [
    "#### with specific starting chracters and specific endings"
   ]
  },
  {
   "cell_type": "code",
   "execution_count": 93,
   "id": "052370bf-4e88-42df-8fa8-457d8c16c716",
   "metadata": {},
   "outputs": [
    {
     "name": "stdout",
     "output_type": "stream",
     "text": [
      "industries.\n",
      "Industry\n",
      "\n",
      "\n",
      "the\n",
      "the\n",
      "The\n"
     ]
    }
   ],
   "source": [
    "txt = 'AI is having the capability to revolutionize all the industries. The Industry is ready for a big change'\n",
    "word = 'in'\n",
    "\n",
    "\n",
    "for wrd in txt.split(' '):\n",
    "    if (wrd[:2].lower() == word.lower()):\n",
    "        print(wrd)\n",
    "        \n",
    "print('\\n')\n",
    "\n",
    "txt_2 = 'AI is having the capability to revolutionize all the industries. The Industry is ready for a big change'\n",
    "word_2='he'\n",
    "for wrd in txt_2.split(' '):\n",
    "    if(wrd[-2:].lower()==word_2.lower()):\n",
    "        print(wrd)"
   ]
  },
  {
   "cell_type": "markdown",
   "id": "4eb8618e-537b-4673-810c-8aba8d52b9c7",
   "metadata": {},
   "source": [
    "#### printing the pairs of the txt\n"
   ]
  },
  {
   "cell_type": "code",
   "execution_count": 94,
   "id": "f4dc326f-ece4-4608-8e4e-d9ea64784645",
   "metadata": {},
   "outputs": [
    {
     "name": "stdout",
     "output_type": "stream",
     "text": [
      "Cryptocurrency is\n",
      "is a\n",
      "a digital\n",
      "digital or\n",
      "or virtual\n",
      "virtual currency\n",
      "currency secured\n",
      "secured by\n",
      "by cryptography,\n",
      "cryptography, decentralized,\n",
      "decentralized, and\n",
      "and based\n",
      "based on\n",
      "on blockchain\n",
      "blockchain technology,\n",
      "technology, offering\n",
      "offering financial\n",
      "financial privacy,\n",
      "privacy, security,\n",
      "security, and\n",
      "and new\n",
      "new investment\n",
      "investment opportunities\n",
      "opportunities globally.\n"
     ]
    }
   ],
   "source": [
    "txt='Cryptocurrency is a digital or virtual currency secured by cryptography, decentralized, and based on blockchain technology, offering financial privacy, security, and new investment opportunities globally.'\n",
    "\n",
    "for wrd in range(len(txt.split(' '))-1):\n",
    "    print(txt.split(' ')[wrd], txt.split(' ')[wrd+1])"
   ]
  },
  {
   "cell_type": "code",
   "execution_count": null,
   "id": "443c8ab4-62f0-438d-8968-0ce769e414e7",
   "metadata": {},
   "outputs": [],
   "source": []
  }
 ],
 "metadata": {
  "kernelspec": {
   "display_name": "Python 3 (ipykernel)",
   "language": "python",
   "name": "python3"
  },
  "language_info": {
   "codemirror_mode": {
    "name": "ipython",
    "version": 3
   },
   "file_extension": ".py",
   "mimetype": "text/x-python",
   "name": "python",
   "nbconvert_exporter": "python",
   "pygments_lexer": "ipython3",
   "version": "3.11.7"
  }
 },
 "nbformat": 4,
 "nbformat_minor": 5
}
