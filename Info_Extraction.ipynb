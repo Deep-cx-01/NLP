{
 "cells": [
  {
   "cell_type": "markdown",
   "id": "e7b8bbb6-c0ce-457e-8ff3-26e7fe58edab",
   "metadata": {},
   "source": [
    "## We will Extract the inportant information from the text and also we will see how to form the wordcloud."
   ]
  },
  {
   "cell_type": "code",
   "execution_count": 1,
   "id": "fb829ca8-b3f0-4c10-a254-7e36426e8343",
   "metadata": {},
   "outputs": [],
   "source": [
    "import spacy"
   ]
  },
  {
   "cell_type": "code",
   "execution_count": 4,
   "id": "94d88545-1284-453a-8c04-6493ed1a968a",
   "metadata": {},
   "outputs": [
    {
     "name": "stdout",
     "output_type": "stream",
     "text": [
      "Collecting en-core-web-md==3.8.0\n",
      "  Downloading https://github.com/explosion/spacy-models/releases/download/en_core_web_md-3.8.0/en_core_web_md-3.8.0-py3-none-any.whl (33.5 MB)\n",
      "     ---------------------------------------- 0.0/33.5 MB ? eta -:--:--\n",
      "     ---------------------------------------- 0.0/33.5 MB ? eta -:--:--\n",
      "     --------------------------------------- 0.0/33.5 MB 262.6 kB/s eta 0:02:08\n",
      "     --------------------------------------- 0.1/33.5 MB 731.4 kB/s eta 0:00:46\n",
      "      --------------------------------------- 0.6/33.5 MB 3.0 MB/s eta 0:00:11\n",
      "     -- ------------------------------------- 2.4/33.5 MB 10.0 MB/s eta 0:00:04\n",
      "     --- ------------------------------------ 3.3/33.5 MB 12.5 MB/s eta 0:00:03\n",
      "     ---- ----------------------------------- 3.9/33.5 MB 11.3 MB/s eta 0:00:03\n",
      "     ------ --------------------------------- 5.1/33.5 MB 13.7 MB/s eta 0:00:03\n",
      "     ------- -------------------------------- 6.6/33.5 MB 15.1 MB/s eta 0:00:02\n",
      "     ---------- ----------------------------- 8.7/33.5 MB 18.0 MB/s eta 0:00:02\n",
      "     ----------- --------------------------- 10.1/33.5 MB 19.5 MB/s eta 0:00:02\n",
      "     ------------ -------------------------- 10.5/33.5 MB 27.3 MB/s eta 0:00:01\n",
      "     ------------ -------------------------- 10.5/33.5 MB 27.3 MB/s eta 0:00:01\n",
      "     ------------ -------------------------- 10.5/33.5 MB 27.3 MB/s eta 0:00:01\n",
      "     ------------ -------------------------- 10.5/33.5 MB 27.3 MB/s eta 0:00:01\n",
      "     -------------- ------------------------ 12.4/33.5 MB 19.3 MB/s eta 0:00:02\n",
      "     ---------------- ---------------------- 14.5/33.5 MB 22.6 MB/s eta 0:00:01\n",
      "     ------------------ -------------------- 16.1/33.5 MB 22.6 MB/s eta 0:00:01\n",
      "     ------------------- ------------------- 16.4/33.5 MB 21.1 MB/s eta 0:00:01\n",
      "     ------------------- ------------------- 16.7/33.5 MB 19.2 MB/s eta 0:00:01\n",
      "     -------------------- ------------------ 17.4/33.5 MB 18.2 MB/s eta 0:00:01\n",
      "     --------------------- ----------------- 18.6/33.5 MB 17.7 MB/s eta 0:00:01\n",
      "     ----------------------- --------------- 20.0/33.5 MB 16.8 MB/s eta 0:00:01\n",
      "     ------------------------ -------------- 20.7/33.5 MB 16.8 MB/s eta 0:00:01\n",
      "     ------------------------ -------------- 20.7/33.5 MB 16.8 MB/s eta 0:00:01\n",
      "     ------------------------ -------------- 21.0/33.5 MB 19.8 MB/s eta 0:00:01\n",
      "     ------------------------- ------------- 21.6/33.5 MB 17.7 MB/s eta 0:00:01\n",
      "     -------------------------- ------------ 22.4/33.5 MB 17.2 MB/s eta 0:00:01\n",
      "     -------------------------- ------------ 22.6/33.5 MB 15.6 MB/s eta 0:00:01\n",
      "     -------------------------- ------------ 22.7/33.5 MB 14.9 MB/s eta 0:00:01\n",
      "     -------------------------- ------------ 22.9/33.5 MB 13.9 MB/s eta 0:00:01\n",
      "     -------------------------- ------------ 23.1/33.5 MB 13.1 MB/s eta 0:00:01\n",
      "     --------------------------- ----------- 24.0/33.5 MB 12.6 MB/s eta 0:00:01\n",
      "     ---------------------------- ---------- 24.4/33.5 MB 11.9 MB/s eta 0:00:01\n",
      "     ---------------------------- ---------- 24.9/33.5 MB 11.5 MB/s eta 0:00:01\n",
      "     ----------------------------- --------- 25.4/33.5 MB 11.1 MB/s eta 0:00:01\n",
      "     ------------------------------ -------- 25.9/33.5 MB 10.6 MB/s eta 0:00:01\n",
      "     ------------------------------ -------- 26.4/33.5 MB 10.2 MB/s eta 0:00:01\n",
      "     ------------------------------- ------- 26.7/33.5 MB 10.6 MB/s eta 0:00:01\n",
      "     ------------------------------- ------- 27.2/33.5 MB 10.6 MB/s eta 0:00:01\n",
      "     -------------------------------- ------ 27.6/33.5 MB 10.4 MB/s eta 0:00:01\n",
      "     --------------------------------- ------ 28.1/33.5 MB 9.8 MB/s eta 0:00:01\n",
      "     ---------------------------------- ----- 28.6/33.5 MB 9.6 MB/s eta 0:00:01\n",
      "     ---------------------------------- ----- 29.1/33.5 MB 9.4 MB/s eta 0:00:01\n",
      "     ----------------------------------- ---- 29.6/33.5 MB 9.1 MB/s eta 0:00:01\n",
      "     ------------------------------------ --- 30.2/33.5 MB 9.0 MB/s eta 0:00:01\n",
      "     ------------------------------------ --- 30.7/33.5 MB 8.6 MB/s eta 0:00:01\n",
      "     ------------------------------------- -- 31.2/33.5 MB 9.5 MB/s eta 0:00:01\n",
      "     ------------------------------------- -- 31.7/33.5 MB 9.2 MB/s eta 0:00:01\n",
      "     -------------------------------------- - 32.0/33.5 MB 9.0 MB/s eta 0:00:01\n",
      "     -------------------------------------- - 32.4/33.5 MB 8.7 MB/s eta 0:00:01\n",
      "     ---------------------------------------  32.7/33.5 MB 9.0 MB/s eta 0:00:01\n",
      "     ---------------------------------------  33.1/33.5 MB 9.4 MB/s eta 0:00:01\n",
      "     ---------------------------------------  33.4/33.5 MB 9.6 MB/s eta 0:00:01\n",
      "     ---------------------------------------  33.5/33.5 MB 9.5 MB/s eta 0:00:01\n",
      "     ---------------------------------------- 33.5/33.5 MB 8.8 MB/s eta 0:00:00\n",
      "Installing collected packages: en-core-web-md\n",
      "Successfully installed en-core-web-md-3.8.0\n",
      "\u001b[38;5;2m[+] Download and installation successful\u001b[0m\n",
      "You can now load the package via spacy.load('en_core_web_md')\n"
     ]
    }
   ],
   "source": [
    "!python -m spacy download en_core_web_md\n",
    "nlp = spacy.load('en_core_web_md')"
   ]
  },
  {
   "cell_type": "markdown",
   "id": "a8b87e9d-754f-4fab-b48e-5b44720827ce",
   "metadata": {},
   "source": [
    "## PART OF SPEECH TAGS"
   ]
  },
  {
   "cell_type": "code",
   "execution_count": 6,
   "id": "1f9779ec-7f02-4afc-aa51-7e59430ae66f",
   "metadata": {},
   "outputs": [
    {
     "data": {
      "text/plain": [
       "Generative Pre-trained Transformer, commonly known as GPT, is an advanced language model developed by OpenAI, capable of understanding and generating human-like text by utilizing deep learning techniques, extensive pre-training on diverse datasets, and fine-tuning for specific tasks, making it an exceptional tool for applications like content creation, translation, coding assistance, and conversational AI, significantly transforming the landscape of artificial intelligence and natural language processing."
      ]
     },
     "execution_count": 6,
     "metadata": {},
     "output_type": "execute_result"
    }
   ],
   "source": [
    "s='''Generative Pre-trained Transformer, commonly known as GPT, is an advanced language model developed by OpenAI, capable of understanding and generating human-like text by utilizing deep learning techniques, extensive pre-training on diverse datasets, and fine-tuning for specific tasks, making it an exceptional tool for applications like content creation, translation, coding assistance, and conversational AI, significantly transforming the landscape of artificial intelligence and natural language processing.'''\n",
    "d= nlp(s)\n",
    "d"
   ]
  },
  {
   "cell_type": "code",
   "execution_count": 11,
   "id": "48bf3db8-619f-492d-b719-66676ba8508a",
   "metadata": {},
   "outputs": [
    {
     "name": "stdout",
     "output_type": "stream",
     "text": [
      "<class 'spacy.tokens.doc.Doc'>\n",
      "<class 'spacy.tokens.token.Token'>\n",
      "<class 'str'>\n"
     ]
    }
   ],
   "source": [
    "print(type(d))\n",
    "print(type(d[0]))\n",
    "print(type(d[0].text))"
   ]
  },
  {
   "cell_type": "code",
   "execution_count": 15,
   "id": "d0ff0440-d4a1-4102-84e1-dabe3b1ac359",
   "metadata": {},
   "outputs": [
    {
     "name": "stdout",
     "output_type": "stream",
     "text": [
      "PROPN :  proper noun\n"
     ]
    }
   ],
   "source": [
    "# pos\n",
    "print(d[0].pos_ ,\": \" ,spacy.explain(d[0].pos_))"
   ]
  },
  {
   "cell_type": "code",
   "execution_count": 16,
   "id": "07386272-2009-4a1d-a5a5-ea6b2a176d2f",
   "metadata": {},
   "outputs": [
    {
     "name": "stdout",
     "output_type": "stream",
     "text": [
      "NNP : noun, proper singular\n"
     ]
    }
   ],
   "source": [
    "# grained POS\n",
    "print(d[1].tag_ ,\":\",spacy.explain(d[1].tag_))"
   ]
  },
  {
   "cell_type": "markdown",
   "id": "e087c422-e2e8-4cf6-9c14-96de507e7456",
   "metadata": {},
   "source": [
    "### Uniform printing "
   ]
  },
  {
   "cell_type": "code",
   "execution_count": 22,
   "id": "10fa515c-5acc-42ec-a194-12956c9ee697",
   "metadata": {},
   "outputs": [
    {
     "name": "stdout",
     "output_type": "stream",
     "text": [
      "CSV file 'tokens.csv' has been created.\n"
     ]
    }
   ],
   "source": [
    "# for token in d:\n",
    "#     print(f\"{token.text:{15}}{token.pos_:{15}}{token.tag_:{15}}{spacy.explain(token.tag_)}\")\n",
    "\n",
    "# forming dataframe\n",
    "\n",
    "import csv\n",
    "\n",
    "csv_file = \"tokens.csv\"\n",
    "\n",
    "# Write data to CSV\n",
    "with open(csv_file, mode=\"w\", newline=\"\", encoding=\"utf-8\") as file:\n",
    "    writer = csv.writer(file)\n",
    "  \n",
    "    writer.writerow([\"Text\", \"POS\", \"Tag\", \"Tag Explanation\"])\n",
    "    \n",
    "    # Write each token's data\n",
    "    for token in d:\n",
    "        writer.writerow([token.text, token.pos_, token.tag_, spacy.explain(token.tag_)])\n",
    "\n",
    "print(f\"CSV file '{csv_file}' has been created.\")\n"
   ]
  },
  {
   "cell_type": "code",
   "execution_count": 23,
   "id": "921716a3-e708-4be1-9dfa-0251d9f1c237",
   "metadata": {},
   "outputs": [],
   "source": [
    "import pandas as pd \n"
   ]
  },
  {
   "cell_type": "code",
   "execution_count": 27,
   "id": "e863dc99-8863-4b59-b9fb-64f65edfcde7",
   "metadata": {},
   "outputs": [],
   "source": [
    "df=pd.read_csv('tokens.csv',index_col=False)"
   ]
  },
  {
   "cell_type": "code",
   "execution_count": 28,
   "id": "7e45b556-f1aa-441e-877c-a16248655413",
   "metadata": {},
   "outputs": [
    {
     "data": {
      "text/html": [
       "<div>\n",
       "<style scoped>\n",
       "    .dataframe tbody tr th:only-of-type {\n",
       "        vertical-align: middle;\n",
       "    }\n",
       "\n",
       "    .dataframe tbody tr th {\n",
       "        vertical-align: top;\n",
       "    }\n",
       "\n",
       "    .dataframe thead th {\n",
       "        text-align: right;\n",
       "    }\n",
       "</style>\n",
       "<table border=\"1\" class=\"dataframe\">\n",
       "  <thead>\n",
       "    <tr style=\"text-align: right;\">\n",
       "      <th></th>\n",
       "      <th>Text</th>\n",
       "      <th>POS</th>\n",
       "      <th>Tag</th>\n",
       "      <th>Tag Explanation</th>\n",
       "    </tr>\n",
       "  </thead>\n",
       "  <tbody>\n",
       "    <tr>\n",
       "      <th>77</th>\n",
       "      <td>intelligence</td>\n",
       "      <td>NOUN</td>\n",
       "      <td>NN</td>\n",
       "      <td>noun, singular or mass</td>\n",
       "    </tr>\n",
       "    <tr>\n",
       "      <th>15</th>\n",
       "      <td>model</td>\n",
       "      <td>NOUN</td>\n",
       "      <td>NN</td>\n",
       "      <td>noun, singular or mass</td>\n",
       "    </tr>\n",
       "    <tr>\n",
       "      <th>34</th>\n",
       "      <td>,</td>\n",
       "      <td>PUNCT</td>\n",
       "      <td>,</td>\n",
       "      <td>punctuation mark, comma</td>\n",
       "    </tr>\n",
       "    <tr>\n",
       "      <th>5</th>\n",
       "      <td>,</td>\n",
       "      <td>PUNCT</td>\n",
       "      <td>,</td>\n",
       "      <td>punctuation mark, comma</td>\n",
       "    </tr>\n",
       "    <tr>\n",
       "      <th>10</th>\n",
       "      <td>,</td>\n",
       "      <td>PUNCT</td>\n",
       "      <td>,</td>\n",
       "      <td>punctuation mark, comma</td>\n",
       "    </tr>\n",
       "    <tr>\n",
       "      <th>54</th>\n",
       "      <td>exceptional</td>\n",
       "      <td>ADJ</td>\n",
       "      <td>JJ</td>\n",
       "      <td>adjective (English), other noun-modifier (Chin...</td>\n",
       "    </tr>\n",
       "    <tr>\n",
       "      <th>20</th>\n",
       "      <td>capable</td>\n",
       "      <td>ADJ</td>\n",
       "      <td>JJ</td>\n",
       "      <td>adjective (English), other noun-modifier (Chin...</td>\n",
       "    </tr>\n",
       "  </tbody>\n",
       "</table>\n",
       "</div>"
      ],
      "text/plain": [
       "            Text    POS Tag                                    Tag Explanation\n",
       "77  intelligence   NOUN  NN                             noun, singular or mass\n",
       "15         model   NOUN  NN                             noun, singular or mass\n",
       "34             ,  PUNCT   ,                            punctuation mark, comma\n",
       "5              ,  PUNCT   ,                            punctuation mark, comma\n",
       "10             ,  PUNCT   ,                            punctuation mark, comma\n",
       "54   exceptional    ADJ  JJ  adjective (English), other noun-modifier (Chin...\n",
       "20       capable    ADJ  JJ  adjective (English), other noun-modifier (Chin..."
      ]
     },
     "execution_count": 28,
     "metadata": {},
     "output_type": "execute_result"
    }
   ],
   "source": [
    "df.sample(7)"
   ]
  },
  {
   "cell_type": "markdown",
   "id": "f24dfdeb-ab4e-4a9a-bd74-886137c710ff",
   "metadata": {},
   "source": [
    "### visualsiing the POS"
   ]
  },
  {
   "cell_type": "code",
   "execution_count": 29,
   "id": "ab488f0c-4b49-451a-a8bf-07124e47079c",
   "metadata": {},
   "outputs": [],
   "source": [
    "from spacy import displacy"
   ]
  },
  {
   "cell_type": "code",
   "execution_count": 30,
   "id": "a1a8b4c8-f758-4b30-9e02-29898a68658a",
   "metadata": {},
   "outputs": [
    {
     "data": {
      "text/html": [
       "<span class=\"tex2jax_ignore\"><svg xmlns=\"http://www.w3.org/2000/svg\" xmlns:xlink=\"http://www.w3.org/1999/xlink\" xml:lang=\"en\" id=\"91eee20f65404f8eaf6a14e059fe7c75-0\" class=\"displacy\" width=\"2150\" height=\"399.5\" direction=\"ltr\" style=\"max-width: none; height: 399.5px; color: #000000; background: #ffffff; font-family: Arial; direction: ltr\">\n",
       "<text class=\"displacy-token\" fill=\"currentColor\" text-anchor=\"middle\" y=\"309.5\">\n",
       "    <tspan class=\"displacy-word\" fill=\"currentColor\" x=\"50\">Hey</tspan>\n",
       "    <tspan class=\"displacy-tag\" dy=\"2em\" fill=\"currentColor\" x=\"50\">INTJ</tspan>\n",
       "</text>\n",
       "\n",
       "<text class=\"displacy-token\" fill=\"currentColor\" text-anchor=\"middle\" y=\"309.5\">\n",
       "    <tspan class=\"displacy-word\" fill=\"currentColor\" x=\"225\">GFG</tspan>\n",
       "    <tspan class=\"displacy-tag\" dy=\"2em\" fill=\"currentColor\" x=\"225\">PROPN</tspan>\n",
       "</text>\n",
       "\n",
       "<text class=\"displacy-token\" fill=\"currentColor\" text-anchor=\"middle\" y=\"309.5\">\n",
       "    <tspan class=\"displacy-word\" fill=\"currentColor\" x=\"400\">is</tspan>\n",
       "    <tspan class=\"displacy-tag\" dy=\"2em\" fill=\"currentColor\" x=\"400\">AUX</tspan>\n",
       "</text>\n",
       "\n",
       "<text class=\"displacy-token\" fill=\"currentColor\" text-anchor=\"middle\" y=\"309.5\">\n",
       "    <tspan class=\"displacy-word\" fill=\"currentColor\" x=\"575\">giving</tspan>\n",
       "    <tspan class=\"displacy-tag\" dy=\"2em\" fill=\"currentColor\" x=\"575\">VERB</tspan>\n",
       "</text>\n",
       "\n",
       "<text class=\"displacy-token\" fill=\"currentColor\" text-anchor=\"middle\" y=\"309.5\">\n",
       "    <tspan class=\"displacy-word\" fill=\"currentColor\" x=\"750\">an</tspan>\n",
       "    <tspan class=\"displacy-tag\" dy=\"2em\" fill=\"currentColor\" x=\"750\">DET</tspan>\n",
       "</text>\n",
       "\n",
       "<text class=\"displacy-token\" fill=\"currentColor\" text-anchor=\"middle\" y=\"309.5\">\n",
       "    <tspan class=\"displacy-word\" fill=\"currentColor\" x=\"925\">internship</tspan>\n",
       "    <tspan class=\"displacy-tag\" dy=\"2em\" fill=\"currentColor\" x=\"925\">NOUN</tspan>\n",
       "</text>\n",
       "\n",
       "<text class=\"displacy-token\" fill=\"currentColor\" text-anchor=\"middle\" y=\"309.5\">\n",
       "    <tspan class=\"displacy-word\" fill=\"currentColor\" x=\"1100\">opprtunity</tspan>\n",
       "    <tspan class=\"displacy-tag\" dy=\"2em\" fill=\"currentColor\" x=\"1100\">NOUN</tspan>\n",
       "</text>\n",
       "\n",
       "<text class=\"displacy-token\" fill=\"currentColor\" text-anchor=\"middle\" y=\"309.5\">\n",
       "    <tspan class=\"displacy-word\" fill=\"currentColor\" x=\"1275\">for</tspan>\n",
       "    <tspan class=\"displacy-tag\" dy=\"2em\" fill=\"currentColor\" x=\"1275\">ADP</tspan>\n",
       "</text>\n",
       "\n",
       "<text class=\"displacy-token\" fill=\"currentColor\" text-anchor=\"middle\" y=\"309.5\">\n",
       "    <tspan class=\"displacy-word\" fill=\"currentColor\" x=\"1450\">all</tspan>\n",
       "    <tspan class=\"displacy-tag\" dy=\"2em\" fill=\"currentColor\" x=\"1450\">DET</tspan>\n",
       "</text>\n",
       "\n",
       "<text class=\"displacy-token\" fill=\"currentColor\" text-anchor=\"middle\" y=\"309.5\">\n",
       "    <tspan class=\"displacy-word\" fill=\"currentColor\" x=\"1625\">Data</tspan>\n",
       "    <tspan class=\"displacy-tag\" dy=\"2em\" fill=\"currentColor\" x=\"1625\">PROPN</tspan>\n",
       "</text>\n",
       "\n",
       "<text class=\"displacy-token\" fill=\"currentColor\" text-anchor=\"middle\" y=\"309.5\">\n",
       "    <tspan class=\"displacy-word\" fill=\"currentColor\" x=\"1800\">Science</tspan>\n",
       "    <tspan class=\"displacy-tag\" dy=\"2em\" fill=\"currentColor\" x=\"1800\">PROPN</tspan>\n",
       "</text>\n",
       "\n",
       "<text class=\"displacy-token\" fill=\"currentColor\" text-anchor=\"middle\" y=\"309.5\">\n",
       "    <tspan class=\"displacy-word\" fill=\"currentColor\" x=\"1975\">enthusiast</tspan>\n",
       "    <tspan class=\"displacy-tag\" dy=\"2em\" fill=\"currentColor\" x=\"1975\">NOUN</tspan>\n",
       "</text>\n",
       "\n",
       "<g class=\"displacy-arrow\">\n",
       "    <path class=\"displacy-arc\" id=\"arrow-91eee20f65404f8eaf6a14e059fe7c75-0-0\" stroke-width=\"2px\" d=\"M70,264.5 C70,2.0 575.0,2.0 575.0,264.5\" fill=\"none\" stroke=\"currentColor\"/>\n",
       "    <text dy=\"1.25em\" style=\"font-size: 0.8em; letter-spacing: 1px\">\n",
       "        <textPath xlink:href=\"#arrow-91eee20f65404f8eaf6a14e059fe7c75-0-0\" class=\"displacy-label\" startOffset=\"50%\" side=\"left\" fill=\"currentColor\" text-anchor=\"middle\">intj</textPath>\n",
       "    </text>\n",
       "    <path class=\"displacy-arrowhead\" d=\"M70,266.5 L62,254.5 78,254.5\" fill=\"currentColor\"/>\n",
       "</g>\n",
       "\n",
       "<g class=\"displacy-arrow\">\n",
       "    <path class=\"displacy-arc\" id=\"arrow-91eee20f65404f8eaf6a14e059fe7c75-0-1\" stroke-width=\"2px\" d=\"M245,264.5 C245,89.5 570.0,89.5 570.0,264.5\" fill=\"none\" stroke=\"currentColor\"/>\n",
       "    <text dy=\"1.25em\" style=\"font-size: 0.8em; letter-spacing: 1px\">\n",
       "        <textPath xlink:href=\"#arrow-91eee20f65404f8eaf6a14e059fe7c75-0-1\" class=\"displacy-label\" startOffset=\"50%\" side=\"left\" fill=\"currentColor\" text-anchor=\"middle\">nsubj</textPath>\n",
       "    </text>\n",
       "    <path class=\"displacy-arrowhead\" d=\"M245,266.5 L237,254.5 253,254.5\" fill=\"currentColor\"/>\n",
       "</g>\n",
       "\n",
       "<g class=\"displacy-arrow\">\n",
       "    <path class=\"displacy-arc\" id=\"arrow-91eee20f65404f8eaf6a14e059fe7c75-0-2\" stroke-width=\"2px\" d=\"M420,264.5 C420,177.0 565.0,177.0 565.0,264.5\" fill=\"none\" stroke=\"currentColor\"/>\n",
       "    <text dy=\"1.25em\" style=\"font-size: 0.8em; letter-spacing: 1px\">\n",
       "        <textPath xlink:href=\"#arrow-91eee20f65404f8eaf6a14e059fe7c75-0-2\" class=\"displacy-label\" startOffset=\"50%\" side=\"left\" fill=\"currentColor\" text-anchor=\"middle\">aux</textPath>\n",
       "    </text>\n",
       "    <path class=\"displacy-arrowhead\" d=\"M420,266.5 L412,254.5 428,254.5\" fill=\"currentColor\"/>\n",
       "</g>\n",
       "\n",
       "<g class=\"displacy-arrow\">\n",
       "    <path class=\"displacy-arc\" id=\"arrow-91eee20f65404f8eaf6a14e059fe7c75-0-3\" stroke-width=\"2px\" d=\"M770,264.5 C770,89.5 1095.0,89.5 1095.0,264.5\" fill=\"none\" stroke=\"currentColor\"/>\n",
       "    <text dy=\"1.25em\" style=\"font-size: 0.8em; letter-spacing: 1px\">\n",
       "        <textPath xlink:href=\"#arrow-91eee20f65404f8eaf6a14e059fe7c75-0-3\" class=\"displacy-label\" startOffset=\"50%\" side=\"left\" fill=\"currentColor\" text-anchor=\"middle\">det</textPath>\n",
       "    </text>\n",
       "    <path class=\"displacy-arrowhead\" d=\"M770,266.5 L762,254.5 778,254.5\" fill=\"currentColor\"/>\n",
       "</g>\n",
       "\n",
       "<g class=\"displacy-arrow\">\n",
       "    <path class=\"displacy-arc\" id=\"arrow-91eee20f65404f8eaf6a14e059fe7c75-0-4\" stroke-width=\"2px\" d=\"M945,264.5 C945,177.0 1090.0,177.0 1090.0,264.5\" fill=\"none\" stroke=\"currentColor\"/>\n",
       "    <text dy=\"1.25em\" style=\"font-size: 0.8em; letter-spacing: 1px\">\n",
       "        <textPath xlink:href=\"#arrow-91eee20f65404f8eaf6a14e059fe7c75-0-4\" class=\"displacy-label\" startOffset=\"50%\" side=\"left\" fill=\"currentColor\" text-anchor=\"middle\">compound</textPath>\n",
       "    </text>\n",
       "    <path class=\"displacy-arrowhead\" d=\"M945,266.5 L937,254.5 953,254.5\" fill=\"currentColor\"/>\n",
       "</g>\n",
       "\n",
       "<g class=\"displacy-arrow\">\n",
       "    <path class=\"displacy-arc\" id=\"arrow-91eee20f65404f8eaf6a14e059fe7c75-0-5\" stroke-width=\"2px\" d=\"M595,264.5 C595,2.0 1100.0,2.0 1100.0,264.5\" fill=\"none\" stroke=\"currentColor\"/>\n",
       "    <text dy=\"1.25em\" style=\"font-size: 0.8em; letter-spacing: 1px\">\n",
       "        <textPath xlink:href=\"#arrow-91eee20f65404f8eaf6a14e059fe7c75-0-5\" class=\"displacy-label\" startOffset=\"50%\" side=\"left\" fill=\"currentColor\" text-anchor=\"middle\">dobj</textPath>\n",
       "    </text>\n",
       "    <path class=\"displacy-arrowhead\" d=\"M1100.0,266.5 L1108.0,254.5 1092.0,254.5\" fill=\"currentColor\"/>\n",
       "</g>\n",
       "\n",
       "<g class=\"displacy-arrow\">\n",
       "    <path class=\"displacy-arc\" id=\"arrow-91eee20f65404f8eaf6a14e059fe7c75-0-6\" stroke-width=\"2px\" d=\"M1120,264.5 C1120,177.0 1265.0,177.0 1265.0,264.5\" fill=\"none\" stroke=\"currentColor\"/>\n",
       "    <text dy=\"1.25em\" style=\"font-size: 0.8em; letter-spacing: 1px\">\n",
       "        <textPath xlink:href=\"#arrow-91eee20f65404f8eaf6a14e059fe7c75-0-6\" class=\"displacy-label\" startOffset=\"50%\" side=\"left\" fill=\"currentColor\" text-anchor=\"middle\">prep</textPath>\n",
       "    </text>\n",
       "    <path class=\"displacy-arrowhead\" d=\"M1265.0,266.5 L1273.0,254.5 1257.0,254.5\" fill=\"currentColor\"/>\n",
       "</g>\n",
       "\n",
       "<g class=\"displacy-arrow\">\n",
       "    <path class=\"displacy-arc\" id=\"arrow-91eee20f65404f8eaf6a14e059fe7c75-0-7\" stroke-width=\"2px\" d=\"M1470,264.5 C1470,89.5 1970.0,89.5 1970.0,264.5\" fill=\"none\" stroke=\"currentColor\"/>\n",
       "    <text dy=\"1.25em\" style=\"font-size: 0.8em; letter-spacing: 1px\">\n",
       "        <textPath xlink:href=\"#arrow-91eee20f65404f8eaf6a14e059fe7c75-0-7\" class=\"displacy-label\" startOffset=\"50%\" side=\"left\" fill=\"currentColor\" text-anchor=\"middle\">det</textPath>\n",
       "    </text>\n",
       "    <path class=\"displacy-arrowhead\" d=\"M1470,266.5 L1462,254.5 1478,254.5\" fill=\"currentColor\"/>\n",
       "</g>\n",
       "\n",
       "<g class=\"displacy-arrow\">\n",
       "    <path class=\"displacy-arc\" id=\"arrow-91eee20f65404f8eaf6a14e059fe7c75-0-8\" stroke-width=\"2px\" d=\"M1645,264.5 C1645,177.0 1790.0,177.0 1790.0,264.5\" fill=\"none\" stroke=\"currentColor\"/>\n",
       "    <text dy=\"1.25em\" style=\"font-size: 0.8em; letter-spacing: 1px\">\n",
       "        <textPath xlink:href=\"#arrow-91eee20f65404f8eaf6a14e059fe7c75-0-8\" class=\"displacy-label\" startOffset=\"50%\" side=\"left\" fill=\"currentColor\" text-anchor=\"middle\">compound</textPath>\n",
       "    </text>\n",
       "    <path class=\"displacy-arrowhead\" d=\"M1645,266.5 L1637,254.5 1653,254.5\" fill=\"currentColor\"/>\n",
       "</g>\n",
       "\n",
       "<g class=\"displacy-arrow\">\n",
       "    <path class=\"displacy-arc\" id=\"arrow-91eee20f65404f8eaf6a14e059fe7c75-0-9\" stroke-width=\"2px\" d=\"M1820,264.5 C1820,177.0 1965.0,177.0 1965.0,264.5\" fill=\"none\" stroke=\"currentColor\"/>\n",
       "    <text dy=\"1.25em\" style=\"font-size: 0.8em; letter-spacing: 1px\">\n",
       "        <textPath xlink:href=\"#arrow-91eee20f65404f8eaf6a14e059fe7c75-0-9\" class=\"displacy-label\" startOffset=\"50%\" side=\"left\" fill=\"currentColor\" text-anchor=\"middle\">compound</textPath>\n",
       "    </text>\n",
       "    <path class=\"displacy-arrowhead\" d=\"M1820,266.5 L1812,254.5 1828,254.5\" fill=\"currentColor\"/>\n",
       "</g>\n",
       "\n",
       "<g class=\"displacy-arrow\">\n",
       "    <path class=\"displacy-arc\" id=\"arrow-91eee20f65404f8eaf6a14e059fe7c75-0-10\" stroke-width=\"2px\" d=\"M1295,264.5 C1295,2.0 1975.0,2.0 1975.0,264.5\" fill=\"none\" stroke=\"currentColor\"/>\n",
       "    <text dy=\"1.25em\" style=\"font-size: 0.8em; letter-spacing: 1px\">\n",
       "        <textPath xlink:href=\"#arrow-91eee20f65404f8eaf6a14e059fe7c75-0-10\" class=\"displacy-label\" startOffset=\"50%\" side=\"left\" fill=\"currentColor\" text-anchor=\"middle\">pobj</textPath>\n",
       "    </text>\n",
       "    <path class=\"displacy-arrowhead\" d=\"M1975.0,266.5 L1983.0,254.5 1967.0,254.5\" fill=\"currentColor\"/>\n",
       "</g>\n",
       "</svg></span>"
      ],
      "text/plain": [
       "<IPython.core.display.HTML object>"
      ]
     },
     "metadata": {},
     "output_type": "display_data"
    }
   ],
   "source": [
    "d=nlp(u\"Hey GFG is giving an internship opprtunity for all Data Science enthusiast\")\n",
    "displacy.render(d,jupyter=True)"
   ]
  },
  {
   "cell_type": "markdown",
   "id": "1ab58726-1e40-4ec1-a10d-a5ba74871b5c",
   "metadata": {},
   "source": [
    "### Customising this "
   ]
  },
  {
   "cell_type": "code",
   "execution_count": 34,
   "id": "f0dfcdd1-d696-4b85-bc58-b366317b6ea2",
   "metadata": {},
   "outputs": [
    {
     "data": {
      "text/html": [
       "<span class=\"tex2jax_ignore\"><svg xmlns=\"http://www.w3.org/2000/svg\" xmlns:xlink=\"http://www.w3.org/1999/xlink\" xml:lang=\"en\" id=\"f1838b86312e4b508acbb0a4a4e69bc8-0\" class=\"displacy\" width=\"1010\" height=\"257.0\" direction=\"ltr\" style=\"max-width: none; height: 257.0px; color: white; background: black; font-family: Times; direction: ltr\">\n",
       "<text class=\"displacy-token\" fill=\"currentColor\" text-anchor=\"middle\" y=\"167.0\">\n",
       "    <tspan class=\"displacy-word\" fill=\"currentColor\" x=\"50\">Hey</tspan>\n",
       "    <tspan class=\"displacy-tag\" dy=\"2em\" fill=\"currentColor\" x=\"50\">INTJ</tspan>\n",
       "</text>\n",
       "\n",
       "<text class=\"displacy-token\" fill=\"currentColor\" text-anchor=\"middle\" y=\"167.0\">\n",
       "    <tspan class=\"displacy-word\" fill=\"currentColor\" x=\"130\">GFG</tspan>\n",
       "    <tspan class=\"displacy-tag\" dy=\"2em\" fill=\"currentColor\" x=\"130\">PROPN</tspan>\n",
       "</text>\n",
       "\n",
       "<text class=\"displacy-token\" fill=\"currentColor\" text-anchor=\"middle\" y=\"167.0\">\n",
       "    <tspan class=\"displacy-word\" fill=\"currentColor\" x=\"210\">is</tspan>\n",
       "    <tspan class=\"displacy-tag\" dy=\"2em\" fill=\"currentColor\" x=\"210\">AUX</tspan>\n",
       "</text>\n",
       "\n",
       "<text class=\"displacy-token\" fill=\"currentColor\" text-anchor=\"middle\" y=\"167.0\">\n",
       "    <tspan class=\"displacy-word\" fill=\"currentColor\" x=\"290\">giving</tspan>\n",
       "    <tspan class=\"displacy-tag\" dy=\"2em\" fill=\"currentColor\" x=\"290\">VERB</tspan>\n",
       "</text>\n",
       "\n",
       "<text class=\"displacy-token\" fill=\"currentColor\" text-anchor=\"middle\" y=\"167.0\">\n",
       "    <tspan class=\"displacy-word\" fill=\"currentColor\" x=\"370\">an</tspan>\n",
       "    <tspan class=\"displacy-tag\" dy=\"2em\" fill=\"currentColor\" x=\"370\">DET</tspan>\n",
       "</text>\n",
       "\n",
       "<text class=\"displacy-token\" fill=\"currentColor\" text-anchor=\"middle\" y=\"167.0\">\n",
       "    <tspan class=\"displacy-word\" fill=\"currentColor\" x=\"450\">internship</tspan>\n",
       "    <tspan class=\"displacy-tag\" dy=\"2em\" fill=\"currentColor\" x=\"450\">NOUN</tspan>\n",
       "</text>\n",
       "\n",
       "<text class=\"displacy-token\" fill=\"currentColor\" text-anchor=\"middle\" y=\"167.0\">\n",
       "    <tspan class=\"displacy-word\" fill=\"currentColor\" x=\"530\">opprtunity</tspan>\n",
       "    <tspan class=\"displacy-tag\" dy=\"2em\" fill=\"currentColor\" x=\"530\">NOUN</tspan>\n",
       "</text>\n",
       "\n",
       "<text class=\"displacy-token\" fill=\"currentColor\" text-anchor=\"middle\" y=\"167.0\">\n",
       "    <tspan class=\"displacy-word\" fill=\"currentColor\" x=\"610\">for</tspan>\n",
       "    <tspan class=\"displacy-tag\" dy=\"2em\" fill=\"currentColor\" x=\"610\">ADP</tspan>\n",
       "</text>\n",
       "\n",
       "<text class=\"displacy-token\" fill=\"currentColor\" text-anchor=\"middle\" y=\"167.0\">\n",
       "    <tspan class=\"displacy-word\" fill=\"currentColor\" x=\"690\">all</tspan>\n",
       "    <tspan class=\"displacy-tag\" dy=\"2em\" fill=\"currentColor\" x=\"690\">DET</tspan>\n",
       "</text>\n",
       "\n",
       "<text class=\"displacy-token\" fill=\"currentColor\" text-anchor=\"middle\" y=\"167.0\">\n",
       "    <tspan class=\"displacy-word\" fill=\"currentColor\" x=\"770\">Data</tspan>\n",
       "    <tspan class=\"displacy-tag\" dy=\"2em\" fill=\"currentColor\" x=\"770\">PROPN</tspan>\n",
       "</text>\n",
       "\n",
       "<text class=\"displacy-token\" fill=\"currentColor\" text-anchor=\"middle\" y=\"167.0\">\n",
       "    <tspan class=\"displacy-word\" fill=\"currentColor\" x=\"850\">Science</tspan>\n",
       "    <tspan class=\"displacy-tag\" dy=\"2em\" fill=\"currentColor\" x=\"850\">PROPN</tspan>\n",
       "</text>\n",
       "\n",
       "<text class=\"displacy-token\" fill=\"currentColor\" text-anchor=\"middle\" y=\"167.0\">\n",
       "    <tspan class=\"displacy-word\" fill=\"currentColor\" x=\"930\">enthusiast</tspan>\n",
       "    <tspan class=\"displacy-tag\" dy=\"2em\" fill=\"currentColor\" x=\"930\">NOUN</tspan>\n",
       "</text>\n",
       "\n",
       "<g class=\"displacy-arrow\">\n",
       "    <path class=\"displacy-arc\" id=\"arrow-f1838b86312e4b508acbb0a4a4e69bc8-0-0\" stroke-width=\"2px\" d=\"M62,122.0 62,82.0 290.0,82.0 290.0,122.0\" fill=\"none\" stroke=\"currentColor\"/>\n",
       "    <text dy=\"1.25em\" style=\"font-size: 0.8em; letter-spacing: 1px\">\n",
       "        <textPath xlink:href=\"#arrow-f1838b86312e4b508acbb0a4a4e69bc8-0-0\" class=\"displacy-label\" startOffset=\"50%\" side=\"left\" fill=\"currentColor\" text-anchor=\"middle\">intj</textPath>\n",
       "    </text>\n",
       "    <path class=\"displacy-arrowhead\" d=\"M62,124.0 L58,116.0 66,116.0\" fill=\"currentColor\"/>\n",
       "</g>\n",
       "\n",
       "<g class=\"displacy-arrow\">\n",
       "    <path class=\"displacy-arc\" id=\"arrow-f1838b86312e4b508acbb0a4a4e69bc8-0-1\" stroke-width=\"2px\" d=\"M142,122.0 142,95.33333333333333 287.0,95.33333333333333 287.0,122.0\" fill=\"none\" stroke=\"currentColor\"/>\n",
       "    <text dy=\"1.25em\" style=\"font-size: 0.8em; letter-spacing: 1px\">\n",
       "        <textPath xlink:href=\"#arrow-f1838b86312e4b508acbb0a4a4e69bc8-0-1\" class=\"displacy-label\" startOffset=\"50%\" side=\"left\" fill=\"currentColor\" text-anchor=\"middle\">nsubj</textPath>\n",
       "    </text>\n",
       "    <path class=\"displacy-arrowhead\" d=\"M142,124.0 L138,116.0 146,116.0\" fill=\"currentColor\"/>\n",
       "</g>\n",
       "\n",
       "<g class=\"displacy-arrow\">\n",
       "    <path class=\"displacy-arc\" id=\"arrow-f1838b86312e4b508acbb0a4a4e69bc8-0-2\" stroke-width=\"2px\" d=\"M222,122.0 222,108.66666666666667 284.0,108.66666666666667 284.0,122.0\" fill=\"none\" stroke=\"currentColor\"/>\n",
       "    <text dy=\"1.25em\" style=\"font-size: 0.8em; letter-spacing: 1px\">\n",
       "        <textPath xlink:href=\"#arrow-f1838b86312e4b508acbb0a4a4e69bc8-0-2\" class=\"displacy-label\" startOffset=\"50%\" side=\"left\" fill=\"currentColor\" text-anchor=\"middle\">aux</textPath>\n",
       "    </text>\n",
       "    <path class=\"displacy-arrowhead\" d=\"M222,124.0 L218,116.0 226,116.0\" fill=\"currentColor\"/>\n",
       "</g>\n",
       "\n",
       "<g class=\"displacy-arrow\">\n",
       "    <path class=\"displacy-arc\" id=\"arrow-f1838b86312e4b508acbb0a4a4e69bc8-0-3\" stroke-width=\"2px\" d=\"M382,122.0 382,95.33333333333333 527.0,95.33333333333333 527.0,122.0\" fill=\"none\" stroke=\"currentColor\"/>\n",
       "    <text dy=\"1.25em\" style=\"font-size: 0.8em; letter-spacing: 1px\">\n",
       "        <textPath xlink:href=\"#arrow-f1838b86312e4b508acbb0a4a4e69bc8-0-3\" class=\"displacy-label\" startOffset=\"50%\" side=\"left\" fill=\"currentColor\" text-anchor=\"middle\">det</textPath>\n",
       "    </text>\n",
       "    <path class=\"displacy-arrowhead\" d=\"M382,124.0 L378,116.0 386,116.0\" fill=\"currentColor\"/>\n",
       "</g>\n",
       "\n",
       "<g class=\"displacy-arrow\">\n",
       "    <path class=\"displacy-arc\" id=\"arrow-f1838b86312e4b508acbb0a4a4e69bc8-0-4\" stroke-width=\"2px\" d=\"M462,122.0 462,108.66666666666667 524.0,108.66666666666667 524.0,122.0\" fill=\"none\" stroke=\"currentColor\"/>\n",
       "    <text dy=\"1.25em\" style=\"font-size: 0.8em; letter-spacing: 1px\">\n",
       "        <textPath xlink:href=\"#arrow-f1838b86312e4b508acbb0a4a4e69bc8-0-4\" class=\"displacy-label\" startOffset=\"50%\" side=\"left\" fill=\"currentColor\" text-anchor=\"middle\">compound</textPath>\n",
       "    </text>\n",
       "    <path class=\"displacy-arrowhead\" d=\"M462,124.0 L458,116.0 466,116.0\" fill=\"currentColor\"/>\n",
       "</g>\n",
       "\n",
       "<g class=\"displacy-arrow\">\n",
       "    <path class=\"displacy-arc\" id=\"arrow-f1838b86312e4b508acbb0a4a4e69bc8-0-5\" stroke-width=\"2px\" d=\"M302,122.0 302,82.0 530.0,82.0 530.0,122.0\" fill=\"none\" stroke=\"currentColor\"/>\n",
       "    <text dy=\"1.25em\" style=\"font-size: 0.8em; letter-spacing: 1px\">\n",
       "        <textPath xlink:href=\"#arrow-f1838b86312e4b508acbb0a4a4e69bc8-0-5\" class=\"displacy-label\" startOffset=\"50%\" side=\"left\" fill=\"currentColor\" text-anchor=\"middle\">dobj</textPath>\n",
       "    </text>\n",
       "    <path class=\"displacy-arrowhead\" d=\"M530.0,124.0 L534.0,116.0 526.0,116.0\" fill=\"currentColor\"/>\n",
       "</g>\n",
       "\n",
       "<g class=\"displacy-arrow\">\n",
       "    <path class=\"displacy-arc\" id=\"arrow-f1838b86312e4b508acbb0a4a4e69bc8-0-6\" stroke-width=\"2px\" d=\"M542,122.0 542,108.66666666666667 604.0,108.66666666666667 604.0,122.0\" fill=\"none\" stroke=\"currentColor\"/>\n",
       "    <text dy=\"1.25em\" style=\"font-size: 0.8em; letter-spacing: 1px\">\n",
       "        <textPath xlink:href=\"#arrow-f1838b86312e4b508acbb0a4a4e69bc8-0-6\" class=\"displacy-label\" startOffset=\"50%\" side=\"left\" fill=\"currentColor\" text-anchor=\"middle\">prep</textPath>\n",
       "    </text>\n",
       "    <path class=\"displacy-arrowhead\" d=\"M604.0,124.0 L608.0,116.0 600.0,116.0\" fill=\"currentColor\"/>\n",
       "</g>\n",
       "\n",
       "<g class=\"displacy-arrow\">\n",
       "    <path class=\"displacy-arc\" id=\"arrow-f1838b86312e4b508acbb0a4a4e69bc8-0-7\" stroke-width=\"2px\" d=\"M702,122.0 702,95.33333333333333 927.0,95.33333333333333 927.0,122.0\" fill=\"none\" stroke=\"currentColor\"/>\n",
       "    <text dy=\"1.25em\" style=\"font-size: 0.8em; letter-spacing: 1px\">\n",
       "        <textPath xlink:href=\"#arrow-f1838b86312e4b508acbb0a4a4e69bc8-0-7\" class=\"displacy-label\" startOffset=\"50%\" side=\"left\" fill=\"currentColor\" text-anchor=\"middle\">det</textPath>\n",
       "    </text>\n",
       "    <path class=\"displacy-arrowhead\" d=\"M702,124.0 L698,116.0 706,116.0\" fill=\"currentColor\"/>\n",
       "</g>\n",
       "\n",
       "<g class=\"displacy-arrow\">\n",
       "    <path class=\"displacy-arc\" id=\"arrow-f1838b86312e4b508acbb0a4a4e69bc8-0-8\" stroke-width=\"2px\" d=\"M782,122.0 782,108.66666666666667 844.0,108.66666666666667 844.0,122.0\" fill=\"none\" stroke=\"currentColor\"/>\n",
       "    <text dy=\"1.25em\" style=\"font-size: 0.8em; letter-spacing: 1px\">\n",
       "        <textPath xlink:href=\"#arrow-f1838b86312e4b508acbb0a4a4e69bc8-0-8\" class=\"displacy-label\" startOffset=\"50%\" side=\"left\" fill=\"currentColor\" text-anchor=\"middle\">compound</textPath>\n",
       "    </text>\n",
       "    <path class=\"displacy-arrowhead\" d=\"M782,124.0 L778,116.0 786,116.0\" fill=\"currentColor\"/>\n",
       "</g>\n",
       "\n",
       "<g class=\"displacy-arrow\">\n",
       "    <path class=\"displacy-arc\" id=\"arrow-f1838b86312e4b508acbb0a4a4e69bc8-0-9\" stroke-width=\"2px\" d=\"M862,122.0 862,108.66666666666667 924.0,108.66666666666667 924.0,122.0\" fill=\"none\" stroke=\"currentColor\"/>\n",
       "    <text dy=\"1.25em\" style=\"font-size: 0.8em; letter-spacing: 1px\">\n",
       "        <textPath xlink:href=\"#arrow-f1838b86312e4b508acbb0a4a4e69bc8-0-9\" class=\"displacy-label\" startOffset=\"50%\" side=\"left\" fill=\"currentColor\" text-anchor=\"middle\">compound</textPath>\n",
       "    </text>\n",
       "    <path class=\"displacy-arrowhead\" d=\"M862,124.0 L858,116.0 866,116.0\" fill=\"currentColor\"/>\n",
       "</g>\n",
       "\n",
       "<g class=\"displacy-arrow\">\n",
       "    <path class=\"displacy-arc\" id=\"arrow-f1838b86312e4b508acbb0a4a4e69bc8-0-10\" stroke-width=\"2px\" d=\"M622,122.0 622,82.0 930.0,82.0 930.0,122.0\" fill=\"none\" stroke=\"currentColor\"/>\n",
       "    <text dy=\"1.25em\" style=\"font-size: 0.8em; letter-spacing: 1px\">\n",
       "        <textPath xlink:href=\"#arrow-f1838b86312e4b508acbb0a4a4e69bc8-0-10\" class=\"displacy-label\" startOffset=\"50%\" side=\"left\" fill=\"currentColor\" text-anchor=\"middle\">pobj</textPath>\n",
       "    </text>\n",
       "    <path class=\"displacy-arrowhead\" d=\"M930.0,124.0 L934.0,116.0 926.0,116.0\" fill=\"currentColor\"/>\n",
       "</g>\n",
       "</svg></span>"
      ],
      "text/plain": [
       "<IPython.core.display.HTML object>"
      ]
     },
     "metadata": {},
     "output_type": "display_data"
    },
    {
     "data": {
      "text/html": [
       "<span class=\"tex2jax_ignore\"><svg xmlns=\"http://www.w3.org/2000/svg\" xmlns:xlink=\"http://www.w3.org/1999/xlink\" xml:lang=\"en\" id=\"9b3f0f6f650b465fac8295f34f621f1d-0\" class=\"displacy\" width=\"1010\" height=\"257.0\" direction=\"ltr\" style=\"max-width: none; height: 257.0px; color: RGB(60,180,0); background: RGB(0,50,100); font-family: Times; direction: ltr\">\n",
       "<text class=\"displacy-token\" fill=\"currentColor\" text-anchor=\"middle\" y=\"167.0\">\n",
       "    <tspan class=\"displacy-word\" fill=\"currentColor\" x=\"50\">Hey</tspan>\n",
       "    <tspan class=\"displacy-tag\" dy=\"2em\" fill=\"currentColor\" x=\"50\">INTJ</tspan>\n",
       "</text>\n",
       "\n",
       "<text class=\"displacy-token\" fill=\"currentColor\" text-anchor=\"middle\" y=\"167.0\">\n",
       "    <tspan class=\"displacy-word\" fill=\"currentColor\" x=\"130\">GFG</tspan>\n",
       "    <tspan class=\"displacy-tag\" dy=\"2em\" fill=\"currentColor\" x=\"130\">PROPN</tspan>\n",
       "</text>\n",
       "\n",
       "<text class=\"displacy-token\" fill=\"currentColor\" text-anchor=\"middle\" y=\"167.0\">\n",
       "    <tspan class=\"displacy-word\" fill=\"currentColor\" x=\"210\">is</tspan>\n",
       "    <tspan class=\"displacy-tag\" dy=\"2em\" fill=\"currentColor\" x=\"210\">AUX</tspan>\n",
       "</text>\n",
       "\n",
       "<text class=\"displacy-token\" fill=\"currentColor\" text-anchor=\"middle\" y=\"167.0\">\n",
       "    <tspan class=\"displacy-word\" fill=\"currentColor\" x=\"290\">giving</tspan>\n",
       "    <tspan class=\"displacy-tag\" dy=\"2em\" fill=\"currentColor\" x=\"290\">VERB</tspan>\n",
       "</text>\n",
       "\n",
       "<text class=\"displacy-token\" fill=\"currentColor\" text-anchor=\"middle\" y=\"167.0\">\n",
       "    <tspan class=\"displacy-word\" fill=\"currentColor\" x=\"370\">an</tspan>\n",
       "    <tspan class=\"displacy-tag\" dy=\"2em\" fill=\"currentColor\" x=\"370\">DET</tspan>\n",
       "</text>\n",
       "\n",
       "<text class=\"displacy-token\" fill=\"currentColor\" text-anchor=\"middle\" y=\"167.0\">\n",
       "    <tspan class=\"displacy-word\" fill=\"currentColor\" x=\"450\">internship</tspan>\n",
       "    <tspan class=\"displacy-tag\" dy=\"2em\" fill=\"currentColor\" x=\"450\">NOUN</tspan>\n",
       "</text>\n",
       "\n",
       "<text class=\"displacy-token\" fill=\"currentColor\" text-anchor=\"middle\" y=\"167.0\">\n",
       "    <tspan class=\"displacy-word\" fill=\"currentColor\" x=\"530\">opprtunity</tspan>\n",
       "    <tspan class=\"displacy-tag\" dy=\"2em\" fill=\"currentColor\" x=\"530\">NOUN</tspan>\n",
       "</text>\n",
       "\n",
       "<text class=\"displacy-token\" fill=\"currentColor\" text-anchor=\"middle\" y=\"167.0\">\n",
       "    <tspan class=\"displacy-word\" fill=\"currentColor\" x=\"610\">for</tspan>\n",
       "    <tspan class=\"displacy-tag\" dy=\"2em\" fill=\"currentColor\" x=\"610\">ADP</tspan>\n",
       "</text>\n",
       "\n",
       "<text class=\"displacy-token\" fill=\"currentColor\" text-anchor=\"middle\" y=\"167.0\">\n",
       "    <tspan class=\"displacy-word\" fill=\"currentColor\" x=\"690\">all</tspan>\n",
       "    <tspan class=\"displacy-tag\" dy=\"2em\" fill=\"currentColor\" x=\"690\">DET</tspan>\n",
       "</text>\n",
       "\n",
       "<text class=\"displacy-token\" fill=\"currentColor\" text-anchor=\"middle\" y=\"167.0\">\n",
       "    <tspan class=\"displacy-word\" fill=\"currentColor\" x=\"770\">Data</tspan>\n",
       "    <tspan class=\"displacy-tag\" dy=\"2em\" fill=\"currentColor\" x=\"770\">PROPN</tspan>\n",
       "</text>\n",
       "\n",
       "<text class=\"displacy-token\" fill=\"currentColor\" text-anchor=\"middle\" y=\"167.0\">\n",
       "    <tspan class=\"displacy-word\" fill=\"currentColor\" x=\"850\">Science</tspan>\n",
       "    <tspan class=\"displacy-tag\" dy=\"2em\" fill=\"currentColor\" x=\"850\">PROPN</tspan>\n",
       "</text>\n",
       "\n",
       "<text class=\"displacy-token\" fill=\"currentColor\" text-anchor=\"middle\" y=\"167.0\">\n",
       "    <tspan class=\"displacy-word\" fill=\"currentColor\" x=\"930\">enthusiast</tspan>\n",
       "    <tspan class=\"displacy-tag\" dy=\"2em\" fill=\"currentColor\" x=\"930\">NOUN</tspan>\n",
       "</text>\n",
       "\n",
       "<g class=\"displacy-arrow\">\n",
       "    <path class=\"displacy-arc\" id=\"arrow-9b3f0f6f650b465fac8295f34f621f1d-0-0\" stroke-width=\"2px\" d=\"M62,122.0 62,82.0 290.0,82.0 290.0,122.0\" fill=\"none\" stroke=\"currentColor\"/>\n",
       "    <text dy=\"1.25em\" style=\"font-size: 0.8em; letter-spacing: 1px\">\n",
       "        <textPath xlink:href=\"#arrow-9b3f0f6f650b465fac8295f34f621f1d-0-0\" class=\"displacy-label\" startOffset=\"50%\" side=\"left\" fill=\"currentColor\" text-anchor=\"middle\">intj</textPath>\n",
       "    </text>\n",
       "    <path class=\"displacy-arrowhead\" d=\"M62,124.0 L58,116.0 66,116.0\" fill=\"currentColor\"/>\n",
       "</g>\n",
       "\n",
       "<g class=\"displacy-arrow\">\n",
       "    <path class=\"displacy-arc\" id=\"arrow-9b3f0f6f650b465fac8295f34f621f1d-0-1\" stroke-width=\"2px\" d=\"M142,122.0 142,95.33333333333333 287.0,95.33333333333333 287.0,122.0\" fill=\"none\" stroke=\"currentColor\"/>\n",
       "    <text dy=\"1.25em\" style=\"font-size: 0.8em; letter-spacing: 1px\">\n",
       "        <textPath xlink:href=\"#arrow-9b3f0f6f650b465fac8295f34f621f1d-0-1\" class=\"displacy-label\" startOffset=\"50%\" side=\"left\" fill=\"currentColor\" text-anchor=\"middle\">nsubj</textPath>\n",
       "    </text>\n",
       "    <path class=\"displacy-arrowhead\" d=\"M142,124.0 L138,116.0 146,116.0\" fill=\"currentColor\"/>\n",
       "</g>\n",
       "\n",
       "<g class=\"displacy-arrow\">\n",
       "    <path class=\"displacy-arc\" id=\"arrow-9b3f0f6f650b465fac8295f34f621f1d-0-2\" stroke-width=\"2px\" d=\"M222,122.0 222,108.66666666666667 284.0,108.66666666666667 284.0,122.0\" fill=\"none\" stroke=\"currentColor\"/>\n",
       "    <text dy=\"1.25em\" style=\"font-size: 0.8em; letter-spacing: 1px\">\n",
       "        <textPath xlink:href=\"#arrow-9b3f0f6f650b465fac8295f34f621f1d-0-2\" class=\"displacy-label\" startOffset=\"50%\" side=\"left\" fill=\"currentColor\" text-anchor=\"middle\">aux</textPath>\n",
       "    </text>\n",
       "    <path class=\"displacy-arrowhead\" d=\"M222,124.0 L218,116.0 226,116.0\" fill=\"currentColor\"/>\n",
       "</g>\n",
       "\n",
       "<g class=\"displacy-arrow\">\n",
       "    <path class=\"displacy-arc\" id=\"arrow-9b3f0f6f650b465fac8295f34f621f1d-0-3\" stroke-width=\"2px\" d=\"M382,122.0 382,95.33333333333333 527.0,95.33333333333333 527.0,122.0\" fill=\"none\" stroke=\"currentColor\"/>\n",
       "    <text dy=\"1.25em\" style=\"font-size: 0.8em; letter-spacing: 1px\">\n",
       "        <textPath xlink:href=\"#arrow-9b3f0f6f650b465fac8295f34f621f1d-0-3\" class=\"displacy-label\" startOffset=\"50%\" side=\"left\" fill=\"currentColor\" text-anchor=\"middle\">det</textPath>\n",
       "    </text>\n",
       "    <path class=\"displacy-arrowhead\" d=\"M382,124.0 L378,116.0 386,116.0\" fill=\"currentColor\"/>\n",
       "</g>\n",
       "\n",
       "<g class=\"displacy-arrow\">\n",
       "    <path class=\"displacy-arc\" id=\"arrow-9b3f0f6f650b465fac8295f34f621f1d-0-4\" stroke-width=\"2px\" d=\"M462,122.0 462,108.66666666666667 524.0,108.66666666666667 524.0,122.0\" fill=\"none\" stroke=\"currentColor\"/>\n",
       "    <text dy=\"1.25em\" style=\"font-size: 0.8em; letter-spacing: 1px\">\n",
       "        <textPath xlink:href=\"#arrow-9b3f0f6f650b465fac8295f34f621f1d-0-4\" class=\"displacy-label\" startOffset=\"50%\" side=\"left\" fill=\"currentColor\" text-anchor=\"middle\">compound</textPath>\n",
       "    </text>\n",
       "    <path class=\"displacy-arrowhead\" d=\"M462,124.0 L458,116.0 466,116.0\" fill=\"currentColor\"/>\n",
       "</g>\n",
       "\n",
       "<g class=\"displacy-arrow\">\n",
       "    <path class=\"displacy-arc\" id=\"arrow-9b3f0f6f650b465fac8295f34f621f1d-0-5\" stroke-width=\"2px\" d=\"M302,122.0 302,82.0 530.0,82.0 530.0,122.0\" fill=\"none\" stroke=\"currentColor\"/>\n",
       "    <text dy=\"1.25em\" style=\"font-size: 0.8em; letter-spacing: 1px\">\n",
       "        <textPath xlink:href=\"#arrow-9b3f0f6f650b465fac8295f34f621f1d-0-5\" class=\"displacy-label\" startOffset=\"50%\" side=\"left\" fill=\"currentColor\" text-anchor=\"middle\">dobj</textPath>\n",
       "    </text>\n",
       "    <path class=\"displacy-arrowhead\" d=\"M530.0,124.0 L534.0,116.0 526.0,116.0\" fill=\"currentColor\"/>\n",
       "</g>\n",
       "\n",
       "<g class=\"displacy-arrow\">\n",
       "    <path class=\"displacy-arc\" id=\"arrow-9b3f0f6f650b465fac8295f34f621f1d-0-6\" stroke-width=\"2px\" d=\"M542,122.0 542,108.66666666666667 604.0,108.66666666666667 604.0,122.0\" fill=\"none\" stroke=\"currentColor\"/>\n",
       "    <text dy=\"1.25em\" style=\"font-size: 0.8em; letter-spacing: 1px\">\n",
       "        <textPath xlink:href=\"#arrow-9b3f0f6f650b465fac8295f34f621f1d-0-6\" class=\"displacy-label\" startOffset=\"50%\" side=\"left\" fill=\"currentColor\" text-anchor=\"middle\">prep</textPath>\n",
       "    </text>\n",
       "    <path class=\"displacy-arrowhead\" d=\"M604.0,124.0 L608.0,116.0 600.0,116.0\" fill=\"currentColor\"/>\n",
       "</g>\n",
       "\n",
       "<g class=\"displacy-arrow\">\n",
       "    <path class=\"displacy-arc\" id=\"arrow-9b3f0f6f650b465fac8295f34f621f1d-0-7\" stroke-width=\"2px\" d=\"M702,122.0 702,95.33333333333333 927.0,95.33333333333333 927.0,122.0\" fill=\"none\" stroke=\"currentColor\"/>\n",
       "    <text dy=\"1.25em\" style=\"font-size: 0.8em; letter-spacing: 1px\">\n",
       "        <textPath xlink:href=\"#arrow-9b3f0f6f650b465fac8295f34f621f1d-0-7\" class=\"displacy-label\" startOffset=\"50%\" side=\"left\" fill=\"currentColor\" text-anchor=\"middle\">det</textPath>\n",
       "    </text>\n",
       "    <path class=\"displacy-arrowhead\" d=\"M702,124.0 L698,116.0 706,116.0\" fill=\"currentColor\"/>\n",
       "</g>\n",
       "\n",
       "<g class=\"displacy-arrow\">\n",
       "    <path class=\"displacy-arc\" id=\"arrow-9b3f0f6f650b465fac8295f34f621f1d-0-8\" stroke-width=\"2px\" d=\"M782,122.0 782,108.66666666666667 844.0,108.66666666666667 844.0,122.0\" fill=\"none\" stroke=\"currentColor\"/>\n",
       "    <text dy=\"1.25em\" style=\"font-size: 0.8em; letter-spacing: 1px\">\n",
       "        <textPath xlink:href=\"#arrow-9b3f0f6f650b465fac8295f34f621f1d-0-8\" class=\"displacy-label\" startOffset=\"50%\" side=\"left\" fill=\"currentColor\" text-anchor=\"middle\">compound</textPath>\n",
       "    </text>\n",
       "    <path class=\"displacy-arrowhead\" d=\"M782,124.0 L778,116.0 786,116.0\" fill=\"currentColor\"/>\n",
       "</g>\n",
       "\n",
       "<g class=\"displacy-arrow\">\n",
       "    <path class=\"displacy-arc\" id=\"arrow-9b3f0f6f650b465fac8295f34f621f1d-0-9\" stroke-width=\"2px\" d=\"M862,122.0 862,108.66666666666667 924.0,108.66666666666667 924.0,122.0\" fill=\"none\" stroke=\"currentColor\"/>\n",
       "    <text dy=\"1.25em\" style=\"font-size: 0.8em; letter-spacing: 1px\">\n",
       "        <textPath xlink:href=\"#arrow-9b3f0f6f650b465fac8295f34f621f1d-0-9\" class=\"displacy-label\" startOffset=\"50%\" side=\"left\" fill=\"currentColor\" text-anchor=\"middle\">compound</textPath>\n",
       "    </text>\n",
       "    <path class=\"displacy-arrowhead\" d=\"M862,124.0 L858,116.0 866,116.0\" fill=\"currentColor\"/>\n",
       "</g>\n",
       "\n",
       "<g class=\"displacy-arrow\">\n",
       "    <path class=\"displacy-arc\" id=\"arrow-9b3f0f6f650b465fac8295f34f621f1d-0-10\" stroke-width=\"2px\" d=\"M622,122.0 622,82.0 930.0,82.0 930.0,122.0\" fill=\"none\" stroke=\"currentColor\"/>\n",
       "    <text dy=\"1.25em\" style=\"font-size: 0.8em; letter-spacing: 1px\">\n",
       "        <textPath xlink:href=\"#arrow-9b3f0f6f650b465fac8295f34f621f1d-0-10\" class=\"displacy-label\" startOffset=\"50%\" side=\"left\" fill=\"currentColor\" text-anchor=\"middle\">pobj</textPath>\n",
       "    </text>\n",
       "    <path class=\"displacy-arrowhead\" d=\"M930.0,124.0 L934.0,116.0 926.0,116.0\" fill=\"currentColor\"/>\n",
       "</g>\n",
       "</svg></span>"
      ],
      "text/plain": [
       "<IPython.core.display.HTML object>"
      ]
     },
     "metadata": {},
     "output_type": "display_data"
    }
   ],
   "source": [
    "option={'distance':80,'compact':'True','color':'white','bg':'black','font':'Times'}  \n",
    "option_2={'distance':80,'compact':'True','color':'RGB(60,180,0)','bg':'RGB(0,50,100)','font':'Times'}  \n",
    "displacy.render(d,jupyter=True,options=option)\n",
    "displacy.render(d,jupyter=True,options=option_2)"
   ]
  },
  {
   "cell_type": "markdown",
   "id": "c497153a-1fc3-4057-97d8-4f9243b6bee4",
   "metadata": {},
   "source": [
    "### Name Entity Recognition\n",
    "The named entity recognition (NER) is one of the most data preprocessing task. It involves the identification of key information in the text and classification into a set of predefined categories. An entity is basically the thing that is consistently talked about or refer to in the text."
   ]
  },
  {
   "cell_type": "code",
   "execution_count": 36,
   "id": "3142871f-f4a4-4ccf-a067-682e43640f43",
   "metadata": {},
   "outputs": [],
   "source": [
    "import spacy\n",
    "nlp=spacy.load('en_core_web_md')\n",
    "import warnings\n",
    "warnings.filterwarnings('ignore')"
   ]
  },
  {
   "cell_type": "markdown",
   "id": "2df27a05-fc43-4a4d-9f4e-2e93d4672d56",
   "metadata": {},
   "source": [
    "### Function to show Entities (Existing)."
   ]
  },
  {
   "cell_type": "code",
   "execution_count": 37,
   "id": "72dbaff4-ea22-4b8b-acf2-564f3289ccca",
   "metadata": {},
   "outputs": [],
   "source": [
    "def show_entities(d):\n",
    "    if d.ents:\n",
    "        for ent in d.ents:\n",
    "            print(f\"{ent.text:{15}}{ent.label_:{15}}{spacy.explain(ent.label_)}\")\n",
    "    else:\n",
    "        print(\"No entities found \")\n",
    "            "
   ]
  },
  {
   "cell_type": "code",
   "execution_count": 40,
   "id": "478df5bd-9c36-4c1c-b909-57a48d9afd29",
   "metadata": {},
   "outputs": [
    {
     "name": "stdout",
     "output_type": "stream",
     "text": [
      "GFG            ORG            Companies, agencies, institutions, etc.\n",
      "Indian         NORP           Nationalities or religious or political groups\n",
      "one            CARDINAL       Numerals that do not fall under another type\n",
      "No entities found \n"
     ]
    }
   ],
   "source": [
    "d=nlp(u\"GFG is an Indian company which provides one of the finest education\")\n",
    "d2=nlp(u\"Lets go to play\")\n",
    "show_entities(d)\n",
    "show_entities(d2)"
   ]
  },
  {
   "cell_type": "markdown",
   "id": "95949044-1aed-4683-b916-cba9203c6964",
   "metadata": {},
   "source": [
    "### Adding a new entity."
   ]
  },
  {
   "cell_type": "code",
   "execution_count": 42,
   "id": "de57ae7b-9110-415d-be00-731fcd353a9f",
   "metadata": {},
   "outputs": [
    {
     "name": "stdout",
     "output_type": "stream",
     "text": [
      "No entities found \n"
     ]
    }
   ],
   "source": [
    "d=nlp(u\"onlyfans is earning money at an extensive rate\")\n",
    "show_entities(d)"
   ]
  },
  {
   "cell_type": "code",
   "execution_count": 43,
   "id": "bfb649fc-2db1-4278-bc07-3ce760b4b40f",
   "metadata": {},
   "outputs": [
    {
     "name": "stdout",
     "output_type": "stream",
     "text": [
      "onlyfans       ORG            Companies, agencies, institutions, etc.\n"
     ]
    }
   ],
   "source": [
    "from spacy.tokens import Span as ss\n",
    "ORG=d.vocab.strings[u\"ORG\"]\n",
    "new_entity=ss(d,0,1,label=ORG)\n",
    "#0,1 is the index position of onlyfans in the text\n",
    "d.ents=list(d.ents)+[new_entity]\n",
    "#Here we are adding it to our entities list\n",
    "\n",
    "show_entities(d)"
   ]
  },
  {
   "cell_type": "markdown",
   "id": "03c3e763-5938-4b79-b9f5-5db6e4f30362",
   "metadata": {},
   "source": [
    "#### Lets see how to add multiple words as an entity."
   ]
  },
  {
   "cell_type": "code",
   "execution_count": 44,
   "id": "636cb58d-de1d-4268-a9b1-f546af751fc1",
   "metadata": {},
   "outputs": [
    {
     "name": "stdout",
     "output_type": "stream",
     "text": [
      "No entities found \n"
     ]
    }
   ],
   "source": [
    "d=nlp(u\"Playing cricket and football are both good for health\")\n",
    "show_entities(d)"
   ]
  },
  {
   "cell_type": "code",
   "execution_count": 45,
   "id": "0f25aac0-3bb7-4e90-ae3f-9d1fb48bc826",
   "metadata": {},
   "outputs": [
    {
     "data": {
      "text/plain": [
       "[(13020240661013469444, 1, 2), (13020240661013469444, 3, 4)]"
      ]
     },
     "execution_count": 45,
     "metadata": {},
     "output_type": "execute_result"
    }
   ],
   "source": [
    "from spacy.matcher import PhraseMatcher\n",
    "m=PhraseMatcher(nlp.vocab)\n",
    "phrase=['football','cricket']\n",
    "patterns=[nlp(text) for text in phrase]\n",
    "#This is a list Comphrehension\n",
    "m.add('sports',None,*patterns)\n",
    "#Press Shift Tab to check the parameters\n",
    "found=m(d)\n",
    "found"
   ]
  },
  {
   "cell_type": "markdown",
   "id": "e7469e0e-6995-4c50-a909-c9a6fe595de1",
   "metadata": {},
   "source": [
    "#### <b> Note:</b>This shows that we have found cricket and football and the indexes of those are also given."
   ]
  },
  {
   "cell_type": "code",
   "execution_count": 46,
   "id": "b0a326ae-c008-4bf7-8fce-7a52fc669279",
   "metadata": {},
   "outputs": [
    {
     "name": "stdout",
     "output_type": "stream",
     "text": [
      "cricket        Sports         None\n",
      "football       Sports         None\n"
     ]
    }
   ],
   "source": [
    "sport=d.vocab.strings[u\"Sports\"]\n",
    "new_ents=[ss(d,match[1],match[2],label=sport) for match in found]\n",
    "d.ents=list(d.ents)+new_ents\n",
    "\n",
    "show_entities(d)"
   ]
  },
  {
   "cell_type": "markdown",
   "id": "bb08db50-3924-4749-9e6d-3fd8e7606cc1",
   "metadata": {},
   "source": [
    "### Finding the specific tagged entity."
   ]
  },
  {
   "cell_type": "code",
   "execution_count": 48,
   "id": "7527c3da-062a-446e-b200-6a75ea91183b",
   "metadata": {},
   "outputs": [],
   "source": [
    "t=''' Google announced a $10 billion investment in India, while Microsoft committed $5 billion to AI research globally, and Amazon reported a quarterly revenue of $143 billion, surpassing expectations, as Tesla secured a $2.5 billion deal with Panasonic, and JPMorgan Chase allocated $1 billion for community development projects in underprivileged areas across the United States.'''\n",
    "doc=nlp(t)"
   ]
  },
  {
   "cell_type": "code",
   "execution_count": 49,
   "id": "74671c0f-1f93-491c-aa3c-26a4101eb4bf",
   "metadata": {},
   "outputs": [
    {
     "name": "stdout",
     "output_type": "stream",
     "text": [
      "Google         ORG            Companies, agencies, institutions, etc.\n",
      "$10 billion    MONEY          Monetary values, including unit\n",
      "India          GPE            Countries, cities, states\n",
      "Microsoft      ORG            Companies, agencies, institutions, etc.\n",
      "$5 billion     MONEY          Monetary values, including unit\n",
      "Amazon         ORG            Companies, agencies, institutions, etc.\n",
      "quarterly      DATE           Absolute or relative dates or periods\n",
      "$143 billion   MONEY          Monetary values, including unit\n",
      "Tesla          GPE            Countries, cities, states\n",
      "$2.5 billion   MONEY          Monetary values, including unit\n",
      "Panasonic      ORG            Companies, agencies, institutions, etc.\n",
      "JPMorgan Chase ORG            Companies, agencies, institutions, etc.\n",
      "$1 billion     MONEY          Monetary values, including unit\n",
      "the United StatesGPE            Countries, cities, states\n"
     ]
    }
   ],
   "source": [
    "show_entities(doc)"
   ]
  },
  {
   "cell_type": "code",
   "execution_count": 51,
   "id": "c6337386-b8c3-4c1b-a7bd-f822debea838",
   "metadata": {},
   "outputs": [
    {
     "name": "stdout",
     "output_type": "stream",
     "text": [
      "[Google, Microsoft, Amazon, Panasonic, JPMorgan Chase]\n",
      "5\n"
     ]
    }
   ],
   "source": [
    "print([ent for ent in doc.ents if ent.label_=='ORG'])\n",
    "print(len([ent for ent in doc.ents if ent.label_=='MONEY']))"
   ]
  },
  {
   "cell_type": "code",
   "execution_count": null,
   "id": "0ebb010d-e9da-4fbc-b34f-99c77339d2e1",
   "metadata": {},
   "outputs": [],
   "source": []
  }
 ],
 "metadata": {
  "kernelspec": {
   "display_name": "Python 3 (ipykernel)",
   "language": "python",
   "name": "python3"
  },
  "language_info": {
   "codemirror_mode": {
    "name": "ipython",
    "version": 3
   },
   "file_extension": ".py",
   "mimetype": "text/x-python",
   "name": "python",
   "nbconvert_exporter": "python",
   "pygments_lexer": "ipython3",
   "version": "3.11.7"
  }
 },
 "nbformat": 4,
 "nbformat_minor": 5
}
