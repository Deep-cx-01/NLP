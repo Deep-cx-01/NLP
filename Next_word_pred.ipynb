{
 "cells": [
  {
   "cell_type": "code",
   "execution_count": 1,
   "id": "7cdff32b-b714-4209-8cfe-9578ff905bd0",
   "metadata": {},
   "outputs": [],
   "source": [
    "import re\n"
   ]
  },
  {
   "cell_type": "markdown",
   "id": "64b38349-366c-4873-beec-fcb199aaab97",
   "metadata": {},
   "source": [
    "### 1. Finding the Pairs."
   ]
  },
  {
   "cell_type": "code",
   "execution_count": 4,
   "id": "cbc5f40d-336c-405b-bb49-45f2f2ba9428",
   "metadata": {},
   "outputs": [],
   "source": [
    "with open('big.txt') as fd:\n",
    "    lines=fd.readlines()\n",
    "    words=[]\n",
    "    for line in lines:\n",
    "        words+=re.findall('\\w+',line.lower())\n",
    "\n",
    "def get_pairs(text):\n",
    "    data=[]\n",
    "    for i in range(len(text)-1):\n",
    "        data.append(' '.join(words[i:i+2]))\n",
    "    return data\n",
    "\n",
    "data=get_pairs(words)\n",
    "    "
   ]
  },
  {
   "cell_type": "code",
   "execution_count": 5,
   "id": "4ae4d97b-ac49-402c-bc13-dc0d267c95ee",
   "metadata": {},
   "outputs": [
    {
     "data": {
      "text/plain": [
       "['the project',\n",
       " 'project gutenberg',\n",
       " 'gutenberg ebook',\n",
       " 'ebook of',\n",
       " 'of the',\n",
       " 'the adventures',\n",
       " 'adventures of',\n",
       " 'of sherlock',\n",
       " 'sherlock holmes',\n",
       " 'holmes by']"
      ]
     },
     "execution_count": 5,
     "metadata": {},
     "output_type": "execute_result"
    }
   ],
   "source": [
    "data[:10]"
   ]
  },
  {
   "cell_type": "markdown",
   "id": "d2b98729-69d7-44dc-ad16-f3da42c4a2da",
   "metadata": {},
   "source": [
    "### 2. Find Occurence Probablities."
   ]
  },
  {
   "cell_type": "code",
   "execution_count": 6,
   "id": "23581140-ffc1-445b-abce-38c11850fd72",
   "metadata": {},
   "outputs": [
    {
     "data": {
      "text/plain": [
       "95"
      ]
     },
     "execution_count": 6,
     "metadata": {},
     "output_type": "execute_result"
    }
   ],
   "source": [
    "data.count('the project')"
   ]
  },
  {
   "cell_type": "code",
   "execution_count": 12,
   "id": "2baa6a90-4c0d-4961-8235-c10aa46d529f",
   "metadata": {},
   "outputs": [
    {
     "name": "stdout",
     "output_type": "stream",
     "text": [
      "--------------------\n",
      "Total pairs: 1115584\n",
      "Unique pairs: 390694\n",
      "--------------------\n"
     ]
    }
   ],
   "source": [
    "print('--'*10)\n",
    "print(\"Total pairs:\",len(data))\n",
    "unique=list(set(data))\n",
    "print(\"Unique pairs:\",len(unique))\n",
    "print('--'*10)"
   ]
  },
  {
   "cell_type": "code",
   "execution_count": 13,
   "id": "45709773-7957-40d8-a491-87b7b3421669",
   "metadata": {},
   "outputs": [
    {
     "name": "stderr",
     "output_type": "stream",
     "text": [
      "  1%|█                                                                         | 5365/390694 [02:59<3:35:02, 29.87it/s]\n"
     ]
    },
    {
     "ename": "KeyboardInterrupt",
     "evalue": "",
     "output_type": "error",
     "traceback": [
      "\u001b[1;31m---------------------------------------------------------------------------\u001b[0m",
      "\u001b[1;31mKeyboardInterrupt\u001b[0m                         Traceback (most recent call last)",
      "Cell \u001b[1;32mIn[13], line 4\u001b[0m\n\u001b[0;32m      2\u001b[0m prob_dist\u001b[38;5;241m=\u001b[39m[]\n\u001b[0;32m      3\u001b[0m \u001b[38;5;28;01mfor\u001b[39;00m pair \u001b[38;5;129;01min\u001b[39;00m tqdm(unique):\n\u001b[1;32m----> 4\u001b[0m     prob_dist\u001b[38;5;241m.\u001b[39mappend([pair,data\u001b[38;5;241m.\u001b[39mcount(pair)])\n",
      "\u001b[1;31mKeyboardInterrupt\u001b[0m: "
     ]
    }
   ],
   "source": [
    "from tqdm import tqdm\n",
    "prob_dist=[]\n",
    "for pair in tqdm(unique):\n",
    "    prob_dist.append([pair,data.count(pair)])"
   ]
  },
  {
   "cell_type": "markdown",
   "id": "f4e5d54b-ddc5-47c4-a1b3-c604e8921b92",
   "metadata": {},
   "source": [
    "##### NOTE: as we can see normal prob classw will take hours to distribute while we can use inbuilt libraries."
   ]
  },
  {
   "cell_type": "code",
   "execution_count": 17,
   "id": "c980dabb-5c0c-4f23-ab37-2ce823398faf",
   "metadata": {},
   "outputs": [
    {
     "name": "stdout",
     "output_type": "stream",
     "text": [
      "390694 390694\n"
     ]
    }
   ],
   "source": [
    "import numpy as np\n",
    "\n",
    "a=np.array(data)\n",
    "\n",
    "uniq , counts=np.unique(a,return_counts=True)\n",
    "\n",
    "print(len(uniq),len(counts))"
   ]
  },
  {
   "cell_type": "code",
   "execution_count": 19,
   "id": "8050b3c7-1fe0-4d04-a301-b8938e4639be",
   "metadata": {},
   "outputs": [
    {
     "data": {
      "text/plain": [
       "array(['0 05', '0 25', '0 45', '0 5', '0 6', '0 7', '0 9', '0 i', '00 99',\n",
       "       '00 went', '000 000'], dtype='<U30')"
      ]
     },
     "execution_count": 19,
     "metadata": {},
     "output_type": "execute_result"
    }
   ],
   "source": [
    "uniq[:11]"
   ]
  },
  {
   "cell_type": "code",
   "execution_count": 20,
   "id": "38128d6a-1cba-4083-9dfe-34c097f741f6",
   "metadata": {},
   "outputs": [
    {
     "data": {
      "text/plain": [
       "array([ 1,  1,  1,  1,  4,  1,  1,  1,  2,  1, 43], dtype=int64)"
      ]
     },
     "execution_count": 20,
     "metadata": {},
     "output_type": "execute_result"
    }
   ],
   "source": [
    "counts[:11]"
   ]
  },
  {
   "cell_type": "code",
   "execution_count": 22,
   "id": "f7b57cde-d8c4-470e-b519-fbf4eec73daf",
   "metadata": {},
   "outputs": [],
   "source": [
    "prob_dist=[] # stores the data informaiotn as the data its count and its output\n",
    "\n",
    "for i in range(len(uniq)):\n",
    "    prob_dist.append([uniq[i],counts[i],uniq[i].split()[1]])"
   ]
  },
  {
   "cell_type": "code",
   "execution_count": 23,
   "id": "e955dc08-60c3-4529-bc55-c2936dd40cb3",
   "metadata": {},
   "outputs": [
    {
     "data": {
      "text/plain": [
       "[['0 05', 1, '05'],\n",
       " ['0 25', 1, '25'],\n",
       " ['0 45', 1, '45'],\n",
       " ['0 5', 1, '5'],\n",
       " ['0 6', 4, '6'],\n",
       " ['0 7', 1, '7'],\n",
       " ['0 9', 1, '9'],\n",
       " ['0 i', 1, 'i'],\n",
       " ['00 99', 2, '99'],\n",
       " ['00 went', 1, 'went']]"
      ]
     },
     "execution_count": 23,
     "metadata": {},
     "output_type": "execute_result"
    }
   ],
   "source": [
    "prob_dist[:10]"
   ]
  },
  {
   "cell_type": "markdown",
   "id": "744d4dea-481e-457a-88e4-8630c365a413",
   "metadata": {},
   "source": [
    "### 3. Making the Dataframe"
   ]
  },
  {
   "cell_type": "code",
   "execution_count": 25,
   "id": "48afc8f8-428d-4689-9663-4a9a838f41ab",
   "metadata": {},
   "outputs": [],
   "source": [
    "import pandas as pd "
   ]
  },
  {
   "cell_type": "code",
   "execution_count": 32,
   "id": "8cdea3a1-28c3-455a-927e-409ac4a2424e",
   "metadata": {},
   "outputs": [
    {
     "data": {
      "text/html": [
       "<div>\n",
       "<style scoped>\n",
       "    .dataframe tbody tr th:only-of-type {\n",
       "        vertical-align: middle;\n",
       "    }\n",
       "\n",
       "    .dataframe tbody tr th {\n",
       "        vertical-align: top;\n",
       "    }\n",
       "\n",
       "    .dataframe thead th {\n",
       "        text-align: right;\n",
       "    }\n",
       "</style>\n",
       "<table border=\"1\" class=\"dataframe\">\n",
       "  <thead>\n",
       "    <tr style=\"text-align: right;\">\n",
       "      <th></th>\n",
       "      <th>Pair</th>\n",
       "      <th>Freq</th>\n",
       "      <th>Output</th>\n",
       "    </tr>\n",
       "  </thead>\n",
       "  <tbody>\n",
       "    <tr>\n",
       "      <th>10</th>\n",
       "      <td>000 000</td>\n",
       "      <td>43</td>\n",
       "      <td>000</td>\n",
       "    </tr>\n",
       "    <tr>\n",
       "      <th>14</th>\n",
       "      <td>000 acres</td>\n",
       "      <td>5</td>\n",
       "      <td>acres</td>\n",
       "    </tr>\n",
       "    <tr>\n",
       "      <th>17</th>\n",
       "      <td>000 against</td>\n",
       "      <td>6</td>\n",
       "      <td>against</td>\n",
       "    </tr>\n",
       "    <tr>\n",
       "      <th>21</th>\n",
       "      <td>000 and</td>\n",
       "      <td>5</td>\n",
       "      <td>and</td>\n",
       "    </tr>\n",
       "    <tr>\n",
       "      <th>37</th>\n",
       "      <td>000 in</td>\n",
       "      <td>31</td>\n",
       "      <td>in</td>\n",
       "    </tr>\n",
       "    <tr>\n",
       "      <th>38</th>\n",
       "      <td>000 inhabitants</td>\n",
       "      <td>7</td>\n",
       "      <td>inhabitants</td>\n",
       "    </tr>\n",
       "    <tr>\n",
       "      <th>42</th>\n",
       "      <td>000 men</td>\n",
       "      <td>5</td>\n",
       "      <td>men</td>\n",
       "    </tr>\n",
       "  </tbody>\n",
       "</table>\n",
       "</div>"
      ],
      "text/plain": [
       "               Pair  Freq       Output\n",
       "10          000 000    43          000\n",
       "14        000 acres     5        acres\n",
       "17      000 against     6      against\n",
       "21          000 and     5          and\n",
       "37           000 in    31           in\n",
       "38  000 inhabitants     7  inhabitants\n",
       "42          000 men     5          men"
      ]
     },
     "execution_count": 32,
     "metadata": {},
     "output_type": "execute_result"
    }
   ],
   "source": [
    "df=pd.DataFrame(prob_dist,columns=['Pair','Freq','Output'])\n",
    "df=df[df['Freq']>=5]\n",
    "df.head(7)"
   ]
  },
  {
   "cell_type": "markdown",
   "id": "949bf469-87f6-4f91-9526-b182e1fa8a0c",
   "metadata": {},
   "source": [
    "#### 3.1 Predicting the pair "
   ]
  },
  {
   "cell_type": "code",
   "execution_count": 33,
   "id": "f5f66d6c-4396-4d24-8321-935382eae32d",
   "metadata": {},
   "outputs": [
    {
     "name": "stdout",
     "output_type": "stream",
     "text": [
      "this act\n",
      "this action\n",
      "this affair\n",
      "this affection\n",
      "this agreement\n",
      "this aim\n",
      "this ancient\n",
      "this and\n",
      "this article\n",
      "this as\n",
      "this at\n",
      "this battle\n",
      "this business\n",
      "this but\n",
      "this campaign\n",
      "this case\n",
      "this chapter\n",
      "this character\n",
      "this class\n",
      "this condition\n",
      "this connection\n",
      "this constitution\n",
      "this continent\n",
      "this could\n",
      "this country\n",
      "this crisis\n",
      "this day\n",
      "this difference\n",
      "this direction\n",
      "this disease\n",
      "this does\n",
      "this ebook\n",
      "this electronic\n",
      "this end\n",
      "this evening\n",
      "this expression\n",
      "this extraordinary\n",
      "this fact\n",
      "this fails\n",
      "this feeling\n",
      "this fellow\n",
      "this file\n",
      "this for\n",
      "this force\n",
      "this form\n",
      "this fresh\n",
      "this general\n",
      "this gentleman\n",
      "this good\n",
      "this great\n",
      "this group\n",
      "this had\n",
      "this happened\n",
      "this happiness\n",
      "this has\n",
      "this he\n",
      "this his\n",
      "this house\n",
      "this i\n",
      "this idea\n",
      "this in\n",
      "this information\n",
      "this is\n",
      "this it\n",
      "this kind\n",
      "this last\n",
      "this law\n",
      "this letter\n",
      "this life\n",
      "this little\n",
      "this long\n",
      "this made\n",
      "this man\n",
      "this manner\n",
      "this marriage\n",
      "this matter\n",
      "this may\n",
      "this mean\n",
      "this means\n",
      "this measure\n",
      "this method\n",
      "this moment\n",
      "this morning\n",
      "this most\n",
      "this movement\n",
      "this new\n",
      "this news\n",
      "this not\n",
      "this object\n",
      "this of\n",
      "this officer\n",
      "this old\n",
      "this one\n",
      "this operation\n",
      "this opinion\n",
      "this or\n",
      "this order\n",
      "this organism\n",
      "this party\n",
      "this period\n",
      "this pierre\n",
      "this place\n",
      "this plan\n",
      "this point\n",
      "this position\n",
      "this prince\n",
      "this problem\n",
      "this procedure\n",
      "this process\n",
      "this project\n",
      "this provision\n",
      "this purpose\n",
      "this question\n",
      "this reason\n",
      "this region\n",
      "this room\n",
      "this said\n",
      "this same\n",
      "this seemed\n",
      "this she\n",
      "this should\n",
      "this side\n",
      "this silence\n",
      "this small\n",
      "this sort\n",
      "this stage\n",
      "this state\n",
      "this strange\n",
      "this stranger\n",
      "this term\n",
      "this terrible\n",
      "this that\n",
      "this the\n",
      "this there\n",
      "this they\n",
      "this thought\n",
      "this time\n",
      "this to\n",
      "this true\n",
      "this type\n",
      "this union\n",
      "this unknown\n",
      "this variety\n",
      "this vast\n",
      "this very\n",
      "this victory\n",
      "this view\n",
      "this visit\n",
      "this war\n",
      "this was\n",
      "this way\n",
      "this we\n",
      "this when\n",
      "this will\n",
      "this woman\n",
      "this work\n",
      "this world\n",
      "this would\n",
      "this you\n",
      "this young\n"
     ]
    }
   ],
   "source": [
    "word='this'\n",
    "\n",
    "for pair in df['Pair']:\n",
    "    if(pair.split(' ')[0]==word):\n",
    "        print(pair)\n",
    "    "
   ]
  },
  {
   "cell_type": "code",
   "execution_count": 40,
   "id": "f5da4dd4-9f7c-4188-a86f-383dc6c82e4c",
   "metadata": {},
   "outputs": [],
   "source": [
    "def predict(word):\n",
    "    df_pred=[]\n",
    "    for i in df.values:\n",
    "        if(i[0].split(' ')[0]==word):\n",
    "            df_pred.append([i[0],i[1],i[2]])\n",
    "\n",
    "    df_1=pd.DataFrame(df_pred,columns=['Input','Freq','Output'])\n",
    "    return (list(df_1.sort_values(by='Freq',ascending=False).head()['Output'].values))\n",
    "    "
   ]
  },
  {
   "cell_type": "markdown",
   "id": "8c8be3eb-c6d6-4617-bafc-91d63c97f550",
   "metadata": {},
   "source": [
    "##### 3.1.1 Predicting one word "
   ]
  },
  {
   "cell_type": "code",
   "execution_count": 41,
   "id": "af1181c4-c166-45b9-9a62-c6000802dcf7",
   "metadata": {},
   "outputs": [
    {
     "data": {
      "text/plain": [
       "['same', 'french', 'first', 'old', 'emperor']"
      ]
     },
     "execution_count": 41,
     "metadata": {},
     "output_type": "execute_result"
    }
   ],
   "source": [
    "predict('the')"
   ]
  },
  {
   "cell_type": "markdown",
   "id": "e1d64f80-360d-46e8-9645-9afa2b5bcbd4",
   "metadata": {},
   "source": [
    "##### 3.1.2 Predicting with auto sequencing."
   ]
  },
  {
   "cell_type": "code",
   "execution_count": 42,
   "id": "cb6b215d-6e11-4f42-8d25-16878f4f1ed1",
   "metadata": {},
   "outputs": [
    {
     "name": "stdout",
     "output_type": "stream",
     "text": [
      "of the same time to the same time to the same time to the same time to the same time "
     ]
    }
   ],
   "source": [
    "word = 'one'\n",
    "\n",
    "for i in range(20):\n",
    "    pred = predict(word)\n",
    "    word = pred[0]\n",
    "    print(word, end = ' ')"
   ]
  },
  {
   "cell_type": "markdown",
   "id": "f9929668-1bc8-46d1-80cd-e1909a5cf68f",
   "metadata": {},
   "source": [
    "##### 3.1.3  Prediction with manual Sequencing"
   ]
  },
  {
   "cell_type": "code",
   "execution_count": 43,
   "id": "58c7f6dc-4e31-4b5e-bc6c-8a6b82aaf5d1",
   "metadata": {},
   "outputs": [
    {
     "name": "stdout",
     "output_type": "stream",
     "text": [
      "['is', 'was', 'way', 'and', 'time']\n"
     ]
    },
    {
     "name": "stdin",
     "output_type": "stream",
     "text": [
      "Enter the Index :  1\n"
     ]
    },
    {
     "name": "stdout",
     "output_type": "stream",
     "text": [
      "['a', 'the', 'not', 'in', 'to']\n"
     ]
    },
    {
     "name": "stdin",
     "output_type": "stream",
     "text": [
      "Enter the Index :  1\n"
     ]
    },
    {
     "name": "stdout",
     "output_type": "stream",
     "text": [
      "['same', 'french', 'first', 'old', 'emperor']\n"
     ]
    },
    {
     "name": "stdin",
     "output_type": "stream",
     "text": [
      "Enter the Index :  1\n"
     ]
    },
    {
     "name": "stdout",
     "output_type": "stream",
     "text": [
      "['and', 'army', 'had', 'were', 'revolution']\n"
     ]
    },
    {
     "name": "stdin",
     "output_type": "stream",
     "text": [
      "Enter the Index :  1\n"
     ]
    },
    {
     "name": "stdout",
     "output_type": "stream",
     "text": [
      "['and', 'was', 'of', 'to', 'he']\n"
     ]
    },
    {
     "name": "stdin",
     "output_type": "stream",
     "text": [
      "Enter the Index :  1\n"
     ]
    },
    {
     "name": "stdout",
     "output_type": "stream",
     "text": [
      "--------------------\n",
      "this was the french army was\n",
      "--------------------\n"
     ]
    }
   ],
   "source": [
    "word = 'this'\n",
    "\n",
    "preds = []\n",
    "preds.append(word)\n",
    "\n",
    "for i in range(5):\n",
    "\n",
    "    pred = predict(word)\n",
    "    print(pred)\n",
    "    word = pred[int(input('Enter the Index : '))]\n",
    "    preds.append(word)\n",
    "    \n",
    "print('-'*20)\n",
    "print(' '.join(preds))\n",
    "print('-'*20)"
   ]
  },
  {
   "cell_type": "markdown",
   "id": "29131e46-3f98-48f9-8b6a-450cd3a88d2d",
   "metadata": {},
   "source": [
    "### Working with the N-Gram."
   ]
  },
  {
   "cell_type": "code",
   "execution_count": 44,
   "id": "cd188d41-2b86-4477-937a-2c3933620a97",
   "metadata": {},
   "outputs": [],
   "source": [
    "import re\n",
    "import numpy as np\n",
    "import pandas as pd\n",
    "from tqdm import tqdm \n",
    "\n",
    "\n",
    "with open('big.txt','r') as fd:\n",
    "    lines = fd.readlines()\n",
    "    words = []\n",
    "    for line in lines:\n",
    "        words += re.findall('\\w+', line.lower())"
   ]
  },
  {
   "cell_type": "markdown",
   "id": "8b92b187-e641-4650-9a4c-751cd436ef1a",
   "metadata": {},
   "source": [
    "### 1. Finding the Pairs\n"
   ]
  },
  {
   "cell_type": "code",
   "execution_count": 45,
   "id": "3a4f8ae7-e485-4b1b-8a6c-8e096856757d",
   "metadata": {},
   "outputs": [],
   "source": [
    "def get_pairs(words, n):\n",
    "    \n",
    "    n = n+1  \n",
    "    data = []\n",
    "    for i in range(len(words) - n):\n",
    "        data.append(' '.join(words[i:i+n]))\n",
    "    return data"
   ]
  },
  {
   "cell_type": "markdown",
   "id": "18360e1f-d44f-4f51-bd1f-790280a56f8a",
   "metadata": {},
   "source": [
    "### 2. Finding Occuring Probablitites"
   ]
  },
  {
   "cell_type": "code",
   "execution_count": 47,
   "id": "030ac67a-da74-4a66-be01-4207dc02fb3b",
   "metadata": {},
   "outputs": [],
   "source": [
    "def get_prob_dist(data):\n",
    "    \n",
    "    a = np.array(data)\n",
    "\n",
    "    pair , count = np.unique(a, return_counts = True)\n",
    "    unique_pairs = list(set(data))\n",
    "\n",
    "    prob_dist = []\n",
    "\n",
    "    for i in range(len(unique_pairs)):\n",
    "        prob_dist.append([unique_pairs[i] , ' '.join(unique_pairs[i].split(' ')[:-1]), unique_pairs[i].split(' ')[-1], count[i]])\n",
    "\n",
    "    return prob_dist"
   ]
  },
  {
   "cell_type": "code",
   "execution_count": 48,
   "id": "fd85eab3-2f9d-470b-b706-73d88f2afaf4",
   "metadata": {},
   "outputs": [],
   "source": [
    "data = get_pairs(words,4)\n",
    "prob_dist = get_prob_dist(data)"
   ]
  },
  {
   "cell_type": "markdown",
   "id": "aec8a3c9-673c-4eb4-aec0-6135e3c23468",
   "metadata": {},
   "source": [
    "### 3. Predicting the Words"
   ]
  },
  {
   "cell_type": "code",
   "execution_count": 49,
   "id": "484789ac-6768-4368-8aff-101930a88c8e",
   "metadata": {},
   "outputs": [
    {
     "data": {
      "text/plain": [
       "array(['country'], dtype=object)"
      ]
     },
     "execution_count": 49,
     "metadata": {},
     "output_type": "execute_result"
    }
   ],
   "source": [
    "df = pd.DataFrame(prob_dist, columns = ['Seq','Input','Output','Freq'])\n",
    "df.head()\n",
    "\n",
    "def predict(word):\n",
    "\n",
    "    if len(df[df['Input'] == word]):\n",
    "        df_ = df[df['Input'] == word]\n",
    "        return df_.sort_values(by = 'Freq').head()['Output'].values\n",
    "    else:\n",
    "        print('Seq is not present')\n",
    "        \n",
    "predict('this is a beautiful')"
   ]
  },
  {
   "cell_type": "markdown",
   "id": "ae7b772d-fb22-4f48-a401-e5d0481717bb",
   "metadata": {},
   "source": [
    "#### 3.1 Predicting the one word\n"
   ]
  },
  {
   "cell_type": "code",
   "execution_count": 50,
   "id": "79b34ad5-6bca-452f-b3c9-5633bc88c017",
   "metadata": {},
   "outputs": [
    {
     "name": "stdout",
     "output_type": "stream",
     "text": [
      "Seq is not present\n"
     ]
    }
   ],
   "source": [
    "predict('the is a beautiful')"
   ]
  },
  {
   "cell_type": "markdown",
   "id": "df9405a2-13c3-4fc6-acd3-6ac4bf253536",
   "metadata": {},
   "source": [
    "### 3.2 Predicting the word with auto sequencing"
   ]
  },
  {
   "cell_type": "code",
   "execution_count": 55,
   "id": "6416a89d-48e5-4059-adbc-5319e535f48d",
   "metadata": {},
   "outputs": [
    {
     "data": {
      "text/plain": [
       "'of the united states shall guarantee to every state in this union a republican form of government and shall protect each of them against invasion and on application of the legislature or of the executive when the legislature cannot be convened against domestic violence article v the congress whenever two thirds of both houses'"
      ]
     },
     "execution_count": 55,
     "metadata": {},
     "output_type": "execute_result"
    }
   ],
   "source": [
    "def pred_seq(seq,n):\n",
    "\n",
    "    output = []\n",
    "    output.append(seq)\n",
    "\n",
    "    for i in range(n):\n",
    "\n",
    "        pred = predict(seq)\n",
    "        seq = ' '.join(seq.split(' ')[1:]) + ' ' + pred[0]\n",
    "        output.append(pred[0])\n",
    "        \n",
    "    return ' '.join(output)\n",
    "pred_seq('of the united states',50)"
   ]
  },
  {
   "cell_type": "markdown",
   "id": "358b6ab7-c0fc-4f35-85ef-60b0de04021b",
   "metadata": {},
   "source": [
    "### <b>Note:</b> Actually working with n grams for predicting the things seems to quite interesting but the pair of 3 or 4 is best for the sequence genration of the sequence."
   ]
  },
  {
   "cell_type": "markdown",
   "id": "084368c2-5a3d-42a3-9a31-b6854ec6b985",
   "metadata": {},
   "source": [
    "## Context Word Prediction."
   ]
  },
  {
   "cell_type": "code",
   "execution_count": 56,
   "id": "340c34a2-9543-4655-a167-96f7647557f5",
   "metadata": {},
   "outputs": [],
   "source": [
    "with open('big.txt','r') as fd:\n",
    "    lines = fd.readlines()\n",
    "    words = []\n",
    "    for line in lines:\n",
    "        words += re.findall('\\w+', line.lower())\n",
    "\n",
    "def get_pairs(words, n):\n",
    "    \n",
    "    data = []\n",
    "    for i in range(len(words) - n):\n",
    "        data.append(' '.join(words[i:i+n]))\n",
    "    return data"
   ]
  },
  {
   "cell_type": "markdown",
   "id": "77abe2c3-9223-4935-9241-5bcb0b3fda02",
   "metadata": {},
   "source": [
    "#### Get Probability Distribution."
   ]
  },
  {
   "cell_type": "code",
   "execution_count": 57,
   "id": "9d6a7e80-6f09-414a-aed6-223a0901f4fe",
   "metadata": {},
   "outputs": [],
   "source": [
    "def get_prob_dist(data):\n",
    "    \n",
    "    prob_dist = []    \n",
    "    a = np.array(data)\n",
    "    pairs, counts = np.unique(a, return_counts = True)\n",
    "    \n",
    "    for i in range(len(pairs)):\n",
    "        \n",
    "        left_seq   = ' '.join(pairs[i].split(' ')[:len(pairs[i].split(' '))//2])\n",
    "        right_seq  = ' '.join(pairs[i].split(' ')[len(pairs[i].split(' '))//2 + 1: ])\n",
    "        middle_seq = pairs[i].split(' ')[len(pairs[i].split(' '))//2]\n",
    "        \n",
    "        prob_dist.append([pairs[i],left_seq, right_seq, middle_seq, counts[i]])\n",
    "        \n",
    "    return prob_dist\n",
    "        "
   ]
  },
  {
   "cell_type": "code",
   "execution_count": 59,
   "id": "c2b4ee78-7d5d-4e63-9851-69a2e055df42",
   "metadata": {},
   "outputs": [
    {
     "data": {
      "text/html": [
       "<div>\n",
       "<style scoped>\n",
       "    .dataframe tbody tr th:only-of-type {\n",
       "        vertical-align: middle;\n",
       "    }\n",
       "\n",
       "    .dataframe tbody tr th {\n",
       "        vertical-align: top;\n",
       "    }\n",
       "\n",
       "    .dataframe thead th {\n",
       "        text-align: right;\n",
       "    }\n",
       "</style>\n",
       "<table border=\"1\" class=\"dataframe\">\n",
       "  <thead>\n",
       "    <tr style=\"text-align: right;\">\n",
       "      <th></th>\n",
       "      <th>Sequence</th>\n",
       "      <th>Left_seq</th>\n",
       "      <th>Right_seq</th>\n",
       "      <th>Output</th>\n",
       "      <th>Freq</th>\n",
       "    </tr>\n",
       "  </thead>\n",
       "  <tbody>\n",
       "    <tr>\n",
       "      <th>0</th>\n",
       "      <td>0 05 grm</td>\n",
       "      <td>0</td>\n",
       "      <td>grm</td>\n",
       "      <td>05</td>\n",
       "      <td>1</td>\n",
       "    </tr>\n",
       "    <tr>\n",
       "      <th>1</th>\n",
       "      <td>0 25 u</td>\n",
       "      <td>0</td>\n",
       "      <td>u</td>\n",
       "      <td>25</td>\n",
       "      <td>1</td>\n",
       "    </tr>\n",
       "    <tr>\n",
       "      <th>2</th>\n",
       "      <td>0 45 grm</td>\n",
       "      <td>0</td>\n",
       "      <td>grm</td>\n",
       "      <td>45</td>\n",
       "      <td>1</td>\n",
       "    </tr>\n",
       "    <tr>\n",
       "      <th>3</th>\n",
       "      <td>0 5 to</td>\n",
       "      <td>0</td>\n",
       "      <td>to</td>\n",
       "      <td>5</td>\n",
       "      <td>1</td>\n",
       "    </tr>\n",
       "    <tr>\n",
       "      <th>4</th>\n",
       "      <td>0 6 grm</td>\n",
       "      <td>0</td>\n",
       "      <td>grm</td>\n",
       "      <td>6</td>\n",
       "      <td>4</td>\n",
       "    </tr>\n",
       "  </tbody>\n",
       "</table>\n",
       "</div>"
      ],
      "text/plain": [
       "   Sequence Left_seq Right_seq Output  Freq\n",
       "0  0 05 grm        0       grm     05     1\n",
       "1    0 25 u        0         u     25     1\n",
       "2  0 45 grm        0       grm     45     1\n",
       "3    0 5 to        0        to      5     1\n",
       "4   0 6 grm        0       grm      6     4"
      ]
     },
     "execution_count": 59,
     "metadata": {},
     "output_type": "execute_result"
    }
   ],
   "source": [
    "data = get_pairs(words,3)\n",
    "prob_dist = get_prob_dist(data)\n",
    "\n",
    "df = pd.DataFrame(prob_dist, columns = ['Sequence','Left_seq','Right_seq','Output','Freq'])\n",
    "df.head()"
   ]
  },
  {
   "cell_type": "markdown",
   "id": "3b751571-82c8-4070-a3ae-d4e2393a0051",
   "metadata": {},
   "source": [
    "#### Getting the Predictions"
   ]
  },
  {
   "cell_type": "code",
   "execution_count": 61,
   "id": "d3694c7a-e0da-4101-80a9-2bbb629fc789",
   "metadata": {},
   "outputs": [
    {
     "data": {
      "text/plain": [
       "['united', 'several', 'southern', 'northern', 'planting']"
      ]
     },
     "execution_count": 61,
     "metadata": {},
     "output_type": "execute_result"
    }
   ],
   "source": [
    "def predict(word):\n",
    "    \n",
    "    left_seq  = word.split('_')[0].strip()\n",
    "    right_seq = word.split('_')[1].strip()\n",
    "\n",
    "    df_ = df[df['Left_seq'] == left_seq]\n",
    "    df_ = df_[df_['Right_seq'] == right_seq]\n",
    "\n",
    "    return list(df_.sort_values(by = 'Freq', ascending = False).head()['Output'].values)\n",
    "\n",
    "\n",
    "predict('the _ states')"
   ]
  },
  {
   "cell_type": "code",
   "execution_count": 64,
   "id": "6b79cd7f-67ef-4b13-9c03-7973c35d189b",
   "metadata": {},
   "outputs": [
    {
     "data": {
      "text/html": [
       "<div>\n",
       "<style scoped>\n",
       "    .dataframe tbody tr th:only-of-type {\n",
       "        vertical-align: middle;\n",
       "    }\n",
       "\n",
       "    .dataframe tbody tr th {\n",
       "        vertical-align: top;\n",
       "    }\n",
       "\n",
       "    .dataframe thead th {\n",
       "        text-align: right;\n",
       "    }\n",
       "</style>\n",
       "<table border=\"1\" class=\"dataframe\">\n",
       "  <thead>\n",
       "    <tr style=\"text-align: right;\">\n",
       "      <th></th>\n",
       "      <th>Sequence</th>\n",
       "      <th>Left_seq</th>\n",
       "      <th>Right_seq</th>\n",
       "      <th>Output</th>\n",
       "      <th>Freq</th>\n",
       "    </tr>\n",
       "  </thead>\n",
       "  <tbody>\n",
       "    <tr>\n",
       "      <th>0</th>\n",
       "      <td>0 05 grm</td>\n",
       "      <td>0</td>\n",
       "      <td>grm</td>\n",
       "      <td>05</td>\n",
       "      <td>1</td>\n",
       "    </tr>\n",
       "    <tr>\n",
       "      <th>532804</th>\n",
       "      <td>ponderous maketh repaid</td>\n",
       "      <td>ponderous</td>\n",
       "      <td>repaid</td>\n",
       "      <td>maketh</td>\n",
       "      <td>1</td>\n",
       "    </tr>\n",
       "    <tr>\n",
       "      <th>532805</th>\n",
       "      <td>ponderous steps up</td>\n",
       "      <td>ponderous</td>\n",
       "      <td>up</td>\n",
       "      <td>steps</td>\n",
       "      <td>1</td>\n",
       "    </tr>\n",
       "    <tr>\n",
       "      <th>532806</th>\n",
       "      <td>pondicherry in a</td>\n",
       "      <td>pondicherry</td>\n",
       "      <td>a</td>\n",
       "      <td>in</td>\n",
       "      <td>1</td>\n",
       "    </tr>\n",
       "    <tr>\n",
       "      <th>532807</th>\n",
       "      <td>pondicherry in january</td>\n",
       "      <td>pondicherry</td>\n",
       "      <td>january</td>\n",
       "      <td>in</td>\n",
       "      <td>1</td>\n",
       "    </tr>\n",
       "    <tr>\n",
       "      <th>532808</th>\n",
       "      <td>pondicherry postmark what</td>\n",
       "      <td>pondicherry</td>\n",
       "      <td>what</td>\n",
       "      <td>postmark</td>\n",
       "      <td>1</td>\n",
       "    </tr>\n",
       "    <tr>\n",
       "      <th>532809</th>\n",
       "      <td>pondicherry seven weeks</td>\n",
       "      <td>pondicherry</td>\n",
       "      <td>weeks</td>\n",
       "      <td>seven</td>\n",
       "      <td>1</td>\n",
       "    </tr>\n",
       "    <tr>\n",
       "      <th>532810</th>\n",
       "      <td>pondicherry the second</td>\n",
       "      <td>pondicherry</td>\n",
       "      <td>second</td>\n",
       "      <td>the</td>\n",
       "      <td>1</td>\n",
       "    </tr>\n",
       "    <tr>\n",
       "      <th>532811</th>\n",
       "      <td>ponds and ditches</td>\n",
       "      <td>ponds</td>\n",
       "      <td>ditches</td>\n",
       "      <td>and</td>\n",
       "      <td>1</td>\n",
       "    </tr>\n",
       "    <tr>\n",
       "      <th>532812</th>\n",
       "      <td>ponds and lakes</td>\n",
       "      <td>ponds</td>\n",
       "      <td>lakes</td>\n",
       "      <td>and</td>\n",
       "      <td>1</td>\n",
       "    </tr>\n",
       "  </tbody>\n",
       "</table>\n",
       "</div>"
      ],
      "text/plain": [
       "                         Sequence     Left_seq Right_seq    Output  Freq\n",
       "0                        0 05 grm            0       grm        05     1\n",
       "532804    ponderous maketh repaid    ponderous    repaid    maketh     1\n",
       "532805         ponderous steps up    ponderous        up     steps     1\n",
       "532806           pondicherry in a  pondicherry         a        in     1\n",
       "532807     pondicherry in january  pondicherry   january        in     1\n",
       "532808  pondicherry postmark what  pondicherry      what  postmark     1\n",
       "532809    pondicherry seven weeks  pondicherry     weeks     seven     1\n",
       "532810     pondicherry the second  pondicherry    second       the     1\n",
       "532811          ponds and ditches        ponds   ditches       and     1\n",
       "532812            ponds and lakes        ponds     lakes       and     1"
      ]
     },
     "execution_count": 64,
     "metadata": {},
     "output_type": "execute_result"
    }
   ],
   "source": [
    "df.sort_values(by = 'Freq').head(10)"
   ]
  },
  {
   "cell_type": "code",
   "execution_count": null,
   "id": "fa9b5e26-e0d0-47b2-98fe-86f1f1b6750e",
   "metadata": {},
   "outputs": [],
   "source": []
  }
 ],
 "metadata": {
  "kernelspec": {
   "display_name": "Python 3 (ipykernel)",
   "language": "python",
   "name": "python3"
  },
  "language_info": {
   "codemirror_mode": {
    "name": "ipython",
    "version": 3
   },
   "file_extension": ".py",
   "mimetype": "text/x-python",
   "name": "python",
   "nbconvert_exporter": "python",
   "pygments_lexer": "ipython3",
   "version": "3.11.7"
  }
 },
 "nbformat": 4,
 "nbformat_minor": 5
}
